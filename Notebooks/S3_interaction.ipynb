{
 "cells": [
  {
   "cell_type": "code",
   "execution_count": 1,
   "metadata": {},
   "outputs": [],
   "source": [
    "import boto3\n",
    "import botocore"
   ]
  },
  {
   "cell_type": "code",
   "execution_count": 2,
   "metadata": {},
   "outputs": [],
   "source": [
    "# Create a resource service client, and select bucket\n",
    "s3 = boto3.resource('s3')\n",
    "bucket = s3.Bucket('imagesforcnn')"
   ]
  },
  {
   "cell_type": "markdown",
   "metadata": {},
   "source": [
    "# list all files"
   ]
  },
  {
   "cell_type": "code",
   "execution_count": 19,
   "metadata": {
    "scrolled": true
   },
   "outputs": [
    {
     "name": "stdout",
     "output_type": "stream",
     "text": [
      "imagesforcnn:\n",
      "- OLD/ 2018-09-05_10:06\n",
      "- OLD/Centered.zip 2018-09-05_10:07\n",
      "- OLD/Datensatz.zip 2018-09-05_10:07\n",
      "- OLD/TF_Images_28.tar.xz 2018-09-05_10:07\n",
      "- models/ 2018-09-05_10:21\n",
      "- train_test_img.tar.xz 2018-09-05_10:32\n"
     ]
    }
   ],
   "source": [
    "for bucket in s3.buckets.all():\n",
    "    print(bucket.name, end=':\\n')\n",
    "        \n",
    "for object in s3.Bucket('imagesforcnn').objects.all():\n",
    "    print('-', object.key, object.last_modified.strftime(\"%Y-%m-%d_%H:%M\"))"
   ]
  },
  {
   "cell_type": "markdown",
   "metadata": {},
   "source": [
    "# download file/folder"
   ]
  },
  {
   "cell_type": "code",
   "execution_count": 26,
   "metadata": {},
   "outputs": [],
   "source": [
    "path =  os.path.join(home, 'AUT-CNN-TUB/test/Centered.zip')\n",
    "key = 'OLD/Centered.zip' \n",
    "\n",
    "try:\n",
    "    s3.Bucket('imagesforcnn').download_file(key, path)\n",
    "except botocore.exceptions.ClientError as e:\n",
    "    if e.response['Error']['Code'] == \"404\":\n",
    "        print(\"The object does not exist.\")\n",
    "    else:\n",
    "        raise"
   ]
  },
  {
   "cell_type": "markdown",
   "metadata": {},
   "source": [
    "# upload file/folder"
   ]
  },
  {
   "cell_type": "code",
   "execution_count": 17,
   "metadata": {},
   "outputs": [
    {
     "data": {
      "text/plain": [
       "s3.Object(bucket_name='imagesforcnn', key='01.0.2.3.3506.jpg')"
      ]
     },
     "execution_count": 17,
     "metadata": {},
     "output_type": "execute_result"
    }
   ],
   "source": [
    "home = os.getcwd().split('AUT-CNN-TUB')[0]\n",
    "\n",
    "# Upload a new file\n",
    "\n",
    "path = 'AUT-CNN-TUB/Data/27072018/27072018_canon_centered_28x28/1/01.0.2.3.3506.jpg'\n",
    "data = open(os.path.join(home, path), 'rb')\n",
    "folder = None\n",
    "subfolder = None\n",
    "name = path.split('/')[-1]\n",
    "\n",
    "if folder is not None:\n",
    "    if subfolder is not None:\n",
    "        key = '{}/{}/{}'.format(folder, subfolder, name)\n",
    "    else:\n",
    "        key = '{}/{}'.format(folder, name)\n",
    "else: \n",
    "    key = '{}'.format(name)\n",
    "\n",
    "s3.Bucket('imagesforcnn').put_object(Key=key, Body=data)"
   ]
  }
 ],
 "metadata": {
  "kernelspec": {
   "display_name": "Python 3",
   "language": "python",
   "name": "python3"
  },
  "language_info": {
   "codemirror_mode": {
    "name": "ipython",
    "version": 3
   },
   "file_extension": ".py",
   "mimetype": "text/x-python",
   "name": "python",
   "nbconvert_exporter": "python",
   "pygments_lexer": "ipython3",
   "version": "3.6.6"
  }
 },
 "nbformat": 4,
 "nbformat_minor": 2
}
