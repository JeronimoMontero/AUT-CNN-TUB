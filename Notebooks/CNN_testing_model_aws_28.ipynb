{
 "cells": [
  {
   "cell_type": "code",
   "execution_count": 1,
   "metadata": {},
   "outputs": [],
   "source": [
    "import tensorflow as tf\n",
    "import numpy as np\n",
    "import cv2\n",
    "\n",
    "import os\n",
    "import glob\n",
    "import matplotlib.pyplot as plt\n",
    "import matplotlib.image as mpimg\n"
   ]
  },
  {
   "cell_type": "code",
   "execution_count": 2,
   "metadata": {},
   "outputs": [],
   "source": [
    "from layers import conv_layer, max_pool_2x2, full_layer\n",
    "\n",
    "MINIBATCH_SIZE = 50\n",
    "STEPS = 10000\n",
    "\n",
    "home = os.getcwd().split('AUT-CNN-TUB')[0]\n",
    "test_path  = os.path.join(home,'AUT-CNN-TUB/Data/TF_Images_merge_28/test/')\n",
    "train_path = os.path.join(home,'AUT-CNN-TUB/Data/TF_Images_merge_28/train/')\n",
    "validate_path = os.path.join(home,'AUT-CNN-TUB/Data/TF_Images_Validation_28/train/')\n",
    "\n",
    "model_path  = os.path.join(home,'AUT-CNN-TUB', \n",
    "                           'Data',\n",
    "                           'Models',\n",
    "                           'aws_28',\n",
    "                           '/home/jeronimo/git/AUT-CNN-TUB/Data/Models/aws_28/model_merge_28_b50_s10000_2018-8-29_18-57.ckpt')\n",
    "\n",
    "\n",
    "labels = ['01.0', '02.0', '03.0', '04.0', '05.0', '06.0', '07.1', '07.2',\n",
    "         '08.0', '09.0','10.0','11.0', '12.0','13.0','14.0', '15.0']\n",
    "position_dict = {k: v for v, k in enumerate(labels)}\n",
    "label_dict = {v : k  for v, k in enumerate(labels)}\n",
    "\n",
    "def label_to_binary(position_dict, label):\n",
    "    z = np.zeros(len(position_dict), dtype=int)\n",
    "    z[position_dict[label]] = 1 \n",
    "    return z\n",
    "\n",
    "def next_batch(path, size, GRBtoGray=False, flatten=False):\n",
    "    \n",
    "    data_path = os.path.join(path, '*g')  # ???\n",
    "    files = glob.glob(data_path)\n",
    "    num_imag = len(files)\n",
    "    Data = np.arange(0, num_imag)\n",
    "    batchindices = np.random.choice(Data, size=size,\n",
    "                                    replace=False)  # Zufallsstichprobe; reihenfolge beliebig; ohne zurückl.\n",
    "\n",
    "    label_list =[]\n",
    "    img_list = []\n",
    "    for i, file_path in enumerate(files):\n",
    "        if i in batchindices:\n",
    "            label_str = file_path.split('/')[-1][:4]\n",
    "            label_bin = label_to_binary(position_dict, label_str)\n",
    "\n",
    "            if GRBtoGray == True:\n",
    "                img = cv2.imread(file_path, flags=0)\n",
    "            else:\n",
    "                img = cv2.imread(file_path, flags=1)\n",
    "\n",
    "            if flatten == True:\n",
    "                img_list.append(img.flatten())\n",
    "                label_list.append(label_bin)\n",
    "            else:\n",
    "                img_list.append(img)\n",
    "                label_list.append(label_bin)\n",
    "\n",
    "    img_list = np.array(img_list)\n",
    "    label_list = np.array(label_list)\n",
    "\n",
    "\n",
    "    return img_list, label_list\n",
    "\n",
    "\n",
    "\n",
    "\n",
    "class DataGetter:\n",
    "    def __init__(self, path, GRBtoGray=False, flatten=False): \n",
    "        self.path  = path\n",
    "        self.GRBtoGray  = GRBtoGray\n",
    "        self.flatten  = flatten\n",
    "        self.batchindices = None\n",
    "        \n",
    "        self.data_path = os.path.join(self.path, '*g') \n",
    "        self.files = glob.glob(self.data_path)\n",
    "        self.num_imag = len(self.files)\n",
    "        self.Data = list(range(0, self.num_imag))\n",
    "\n",
    "    def get_batch(self,size):\n",
    "        \n",
    "        if len(self.Data) > size:\n",
    "            self.batchindices = list(np.random.choice(self.Data, size=size, replace=False))\n",
    "            for x in self.batchindices:\n",
    "                self.Data.remove(x) \n",
    "                \n",
    "        elif len(self.Data) == size:\n",
    "            self.batchindices = np.random.choice(self.Data, size=size, replace=False)  \n",
    "            self.Data = list(range(0, self.num_imag))\n",
    "\n",
    "            \n",
    "        else:\n",
    "            self.batchindices = np.random.choice(self.Data, size=len(self.Data), replace=False)  \n",
    "            self.Data = list(range(0, self.num_imag))\n",
    "\n",
    "\n",
    "\n",
    "            \n",
    "\n",
    "        label_list =[]\n",
    "        img_list = []\n",
    "        file_name_list = []\n",
    "        for i, file_path in enumerate(self.files):\n",
    "            if i in self.batchindices:\n",
    "                label_str = file_path.split('/')[-1][:4]\n",
    "                label_bin = label_to_binary(position_dict, label_str)\n",
    "\n",
    "                if self.GRBtoGray == True:\n",
    "                    img = cv2.imread(file_path, flags=0)\n",
    "                else:\n",
    "                    img = cv2.imread(file_path, flags=1)\n",
    "\n",
    "                if self.flatten == True:\n",
    "                    img_list.append(img.flatten())\n",
    "                    label_list.append(label_bin)\n",
    "                    file_name_list.append(file_path.split('/')[-1])\n",
    "                else:\n",
    "                    img_list.append(img)\n",
    "                    label_list.append(label_bin)\n",
    "                    file_name_list.append(file_path.split('/')[-1])\n",
    "\n",
    "        img_list = np.array(img_list)\n",
    "        label_list = np.array(label_list)\n",
    "\n",
    "\n",
    "        return img_list, label_list, file_name_list\n",
    "    \n",
    "test_img = DataGetter(test_path, False, False)\n",
    "train_img = DataGetter(train_path, False, False)"
   ]
  },
  {
   "cell_type": "code",
   "execution_count": 3,
   "metadata": {},
   "outputs": [
    {
     "data": {
      "text/plain": [
       "'/home/jeronimo/git/AUT-CNN-TUB/Data/Models/aws_28/model_merge_28_b50_s10000_2018-8-29_18-57.ckpt'"
      ]
     },
     "execution_count": 3,
     "metadata": {},
     "output_type": "execute_result"
    }
   ],
   "source": [
    "model_path"
   ]
  },
  {
   "cell_type": "code",
   "execution_count": 15,
   "metadata": {
    "scrolled": false
   },
   "outputs": [
    {
     "name": "stdout",
     "output_type": "stream",
     "text": [
      "INFO:tensorflow:Restoring parameters from /home/jeronimo/git/AUT-CNN-TUB/Data/Models/aws_28/model_merge_28_b50_s10000_2018-8-29_18-57.ckpt\n",
      "test accuracy: 0.9947395920753479\n",
      "cross entropy: 0.11456700414419174\n"
     ]
    }
   ],
   "source": [
    "tf.reset_default_graph()\n",
    "# Create some variables.\n",
    "\n",
    "x = tf.placeholder(tf.float32, shape=[None, 28, 28, 3])\n",
    "y_ = tf.placeholder(tf.float32, shape=[None, len(position_dict)])\n",
    "\n",
    "#x_image = tf.reshape(x, [-1, 28, 28, 1])\n",
    "conv1 = conv_layer(x, shape=[5, 5, 3, 64])\n",
    "conv1_pool = max_pool_2x2(conv1)\n",
    "\n",
    "conv2 = conv_layer(conv1_pool, shape=[5, 5, 64, 128])\n",
    "conv2_pool = max_pool_2x2(conv2)\n",
    "\n",
    "conv2_flat = tf.reshape(conv2_pool, [-1, 7*7*128])\n",
    "full_1 = tf.nn.relu(full_layer(conv2_flat, 1024))\n",
    "\n",
    "keep_prob = tf.placeholder(tf.float32)\n",
    "full1_drop = tf.nn.dropout(full_1, keep_prob=keep_prob)\n",
    "\n",
    "y_conv = full_layer(full1_drop, len(position_dict))\n",
    "\n",
    "cross_entropy = tf.reduce_mean(tf.nn.softmax_cross_entropy_with_logits(logits=y_conv, labels=y_))\n",
    "train_step = tf.train.AdamOptimizer(1e-4).minimize(cross_entropy)\n",
    "correct_prediction = tf.equal(tf.argmax(y_conv, 1), tf.argmax(y_, 1))\n",
    "accuracy = tf.reduce_mean(tf.cast(correct_prediction, tf.float32))\n",
    "\n",
    "# Add ops to save and restore only `v2` using the name \"v2\"\n",
    "saver = tf.train.Saver()\n",
    "\n",
    "\n",
    "# Use the saver object normally after that.\n",
    "with tf.Session() as sess:\n",
    "    # Initialize v1 since the saver will not.\n",
    "    #v1.initializer.run()\n",
    "    saver.restore(sess, model_path)\n",
    "\n",
    "    X_batch, y_batch, file_name = test_img.get_batch(2000)#len(os.listdir(test_path)))\n",
    "\n",
    "    test_accuracy = sess.run(accuracy, feed_dict={x: X_batch, y_: y_batch, keep_prob: 1.0})\n",
    "    cross_entro = sess.run(cross_entropy, feed_dict={x: X_batch, y_: y_batch, keep_prob: 1.0})\n",
    "\n",
    "    print(\"test accuracy: {}\".format(test_accuracy))\n",
    "    print(\"cross entropy: {}\".format(cross_entro))"
   ]
  },
  {
   "cell_type": "code",
   "execution_count": 18,
   "metadata": {
    "scrolled": false
   },
   "outputs": [
    {
     "name": "stdout",
     "output_type": "stream",
     "text": [
      "INFO:tensorflow:Restoring parameters from /home/jeronimo/git/AUT-CNN-TUB/Data/Models/aws_28/model_merge_28_b50_s10000_2018-8-29_18-57.ckpt\n",
      "test accuracy: 1.0\n",
      "13.0 ['12.0.0.1.0259.jpg']\n",
      "[[  43.469063 -214.63388  -187.5548     96.381065 -299.23392    21.903519\n",
      "  -110.1869    399.4112   -185.57124  -113.02815  -408.16602    32.554634\n",
      "   544.0416    549.2564    178.76192  -154.16681 ]]\n"
     ]
    },
    {
     "data": {
      "image/png": "[encoded data removed]",
      "text/plain": [
       "<Figure size 360x360 with 1 Axes>"
      ]
     },
     "metadata": {},
     "output_type": "display_data"
    },
    {
     "name": "stdout",
     "output_type": "stream",
     "text": [
      "13.0 ['12.0.0.1.0170.jpg']\n",
      "[[ 5.4198813e+00  3.5183140e+01 -3.0907083e+02  1.0158702e+02\n",
      "  -3.9494571e+02  2.8700924e+01 -1.1370860e-02  3.7494968e+02\n",
      "  -1.4530966e+02 -1.3707973e+02 -5.2290350e+02  1.6305878e+02\n",
      "   6.0854596e+02  6.2229510e+02  3.9432987e+01 -1.1146184e+02]]\n"
     ]
    },
    {
     "data": {
      "image/png": "[encoded data removed]",
      "text/plain": [
       "<Figure size 360x360 with 1 Axes>"
      ]
     },
     "metadata": {},
     "output_type": "display_data"
    },
    {
     "name": "stdout",
     "output_type": "stream",
     "text": [
      "13.0 ['12.0.0.0.0041.jpg']\n",
      "[[  13.660334  -20.420374 -397.9174    -59.90657  -172.82727   -36.251835\n",
      "    27.136112  204.51854   -77.69514  -123.018105 -390.31613    96.39276\n",
      "   464.01984   471.2601      8.17744    40.419754]]\n"
     ]
    },
    {
     "data": {
      "image/png": "[encoded data removed]",
      "text/plain": [
       "<Figure size 360x360 with 1 Axes>"
      ]
     },
     "metadata": {},
     "output_type": "display_data"
    },
    {
     "name": "stdout",
     "output_type": "stream",
     "text": [
      "13.0 ['12.0.0.1.0362.jpg']\n",
      "[[ 105.354935  -27.935919 -236.56561   -10.26186  -348.7287    -40.69783\n",
      "   -70.364716  411.4931   -152.2295    -57.65876  -343.95712    60.914192\n",
      "   530.47736   533.0091     52.203815 -119.01083 ]]\n"
     ]
    },
    {
     "data": {
      "image/png": "[encoded data removed]",
      "text/plain": [
       "<Figure size 360x360 with 1 Axes>"
      ]
     },
     "metadata": {},
     "output_type": "display_data"
    },
    {
     "name": "stdout",
     "output_type": "stream",
     "text": [
      "13.0 ['07.2.0.2.0260.jpg']\n",
      "[[  -5.565493  -25.255583  -18.192284  -65.30483  -133.22604    73.82794\n",
      "    14.22658   380.5885   -112.36124  -204.60544  -295.59506    19.297283\n",
      "   184.57507   457.7149     68.01957  -168.85396 ]]\n"
     ]
    },
    {
     "data": {
      "image/png": "[encoded data removed]",
      "text/plain": [
       "<Figure size 360x360 with 1 Axes>"
      ]
     },
     "metadata": {},
     "output_type": "display_data"
    },
    {
     "name": "stdout",
     "output_type": "stream",
     "text": [
      "13.0 ['12.0.0.1.0024.jpg']\n",
      "[[   2.760045  -24.767937 -314.22916    83.59079  -371.43045     8.566861\n",
      "  -135.21707   285.51776  -101.382515 -220.18231  -521.9729     97.93566\n",
      "   483.56537   493.14273   198.84552  -105.69689 ]]\n"
     ]
    },
    {
     "data": {
      "image/png": "[encoded data removed]",
      "text/plain": [
       "<Figure size 360x360 with 1 Axes>"
      ]
     },
     "metadata": {},
     "output_type": "display_data"
    },
    {
     "name": "stdout",
     "output_type": "stream",
     "text": [
      "13.0 ['07.2.0.2.0099.jpg']\n",
      "[[ -83.579636   82.276405  -32.729042   15.11178  -352.11322    80.47436\n",
      "    30.249666  603.6371   -126.39745  -137.98958  -353.24756    26.516634\n",
      "   273.32297   606.965     182.43625  -310.80515 ]]\n"
     ]
    },
    {
     "data": {
      "image/png": "[encoded data removed]",
      "text/plain": [
       "<Figure size 360x360 with 1 Axes>"
      ]
     },
     "metadata": {},
     "output_type": "display_data"
    },
    {
     "name": "stdout",
     "output_type": "stream",
     "text": [
      "13.0 ['15.0.0.0.0141.jpg']\n",
      "[[ 102.137535 -149.56104  -380.4324    -90.92772  -225.59412     5.09658\n",
      "   103.14257   -25.549091   37.373135  137.84723  -354.1567    131.84825\n",
      "    41.597733  452.73438    84.29878   389.45377 ]]\n"
     ]
    },
    {
     "data": {
      "image/png": "[encoded data removed]",
      "text/plain": [
       "<Figure size 360x360 with 1 Axes>"
      ]
     },
     "metadata": {},
     "output_type": "display_data"
    },
    {
     "name": "stdout",
     "output_type": "stream",
     "text": [
      "13.0 ['07.2.0.2.0242.jpg']\n",
      "[[   0.47357184  -20.635748    -78.183174     87.87413     -59.576527\n",
      "    12.773105     60.632015    314.8783      -98.803116   -225.24611\n",
      "  -261.9066        6.941826    205.88335     363.56396     148.95401\n",
      "  -231.91046   ]]\n"
     ]
    },
    {
     "data": {
      "image/png": "[encoded data removed]",
      "text/plain": [
       "<Figure size 360x360 with 1 Axes>"
      ]
     },
     "metadata": {},
     "output_type": "display_data"
    },
    {
     "name": "stdout",
     "output_type": "stream",
     "text": [
      "13.0 ['07.2.0.2.0271.jpg']\n",
      "[[ -61.979717   -14.234806    -2.0606353   -1.2596363 -173.61578\n",
      "    48.331505    -8.814456   420.02927    -87.49335   -116.30265\n",
      "  -195.04765     67.37236    182.51329    435.43488    123.89224\n",
      "  -206.74089  ]]\n"
     ]
    },
    {
     "data": {
      "image/png": "[encoded data removed]",
      "text/plain": [
       "<Figure size 360x360 with 1 Axes>"
      ]
     },
     "metadata": {},
     "output_type": "display_data"
    },
    {
     "name": "stdout",
     "output_type": "stream",
     "text": [
      "13.0 ['12.0.0.1.0171.jpg']\n",
      "[[ -21.956413   15.584853 -329.68854    85.882774 -426.1413     35.65496\n",
      "   -29.14592   271.4628   -114.89987  -124.26596  -578.489     237.5185\n",
      "   610.62506   614.521      52.082817  -93.46213 ]]\n"
     ]
    },
    {
     "data": {
      "image/png": "[encoded data removed]",
      "text/plain": [
       "<Figure size 360x360 with 1 Axes>"
      ]
     },
     "metadata": {},
     "output_type": "display_data"
    },
    {
     "name": "stdout",
     "output_type": "stream",
     "text": [
      "13.0 ['12.0.0.1.0432.jpg']\n",
      "[[  31.160112 -142.47672  -371.72757    77.51854  -279.86154   -13.541274\n",
      "    38.5177    169.33582  -110.95505  -185.98822  -594.40717   279.90485\n",
      "   556.693     628.5471    175.30167  -119.09868 ]]\n"
     ]
    },
    {
     "data": {
      "image/png": "[encoded data removed]",
      "text/plain": [
       "<Figure size 360x360 with 1 Axes>"
      ]
     },
     "metadata": {},
     "output_type": "display_data"
    },
    {
     "name": "stdout",
     "output_type": "stream",
     "text": [
      "09.0 ['10.0.0.0.0012.jpg']\n",
      "[[-127.130585   50.95639  -445.37573   -76.533806  -23.124653  151.37273\n",
      "  -119.352715 -134.60042    16.905878  663.70496   619.9413   -126.331154\n",
      "   110.42704   202.4101   -153.64827   163.38658 ]]\n"
     ]
    },
    {
     "data": {
      "image/png": "[encoded data removed]",
      "text/plain": [
       "<Figure size 360x360 with 1 Axes>"
      ]
     },
     "metadata": {},
     "output_type": "display_data"
    },
    {
     "name": "stdout",
     "output_type": "stream",
     "text": [
      "13.0 ['07.2.0.2.0412.jpg']\n",
      "[[ -77.14022     -1.3233798   20.844795    22.919853  -226.90724\n",
      "    33.64884     12.402658   509.46744   -162.43344   -162.48927\n",
      "  -299.4445      38.07694    246.65509    514.24615    150.48344\n",
      "  -271.13297  ]]\n"
     ]
    },
    {
     "data": {
      "image/png": "[encoded data removed]",
      "text/plain": [
       "<Figure size 360x360 with 1 Axes>"
      ]
     },
     "metadata": {},
     "output_type": "display_data"
    },
    {
     "name": "stdout",
     "output_type": "stream",
     "text": [
      "13.0 ['12.0.0.0.0093.jpg']\n",
      "[[ -84.754524    -6.7601147 -371.75894     -1.4272324 -252.5583\n",
      "   -82.52965     39.875942   237.43674   -143.27681   -146.98566\n",
      "  -428.85522     85.071396   350.54996    380.5278      65.82345\n",
      "    84.21541  ]]\n"
     ]
    },
    {
     "data": {
      "image/png": "[encoded data removed]",
      "text/plain": [
       "<Figure size 360x360 with 1 Axes>"
      ]
     },
     "metadata": {},
     "output_type": "display_data"
    },
    {
     "name": "stdout",
     "output_type": "stream",
     "text": [
      "13.0 ['12.0.0.1.0180.jpg']\n",
      "[[ -23.927242    -6.8719683 -376.3882     171.81482   -358.78613\n",
      "   -22.93921    -16.122952   246.01755   -133.7744    -211.27618\n",
      "  -588.1681     186.89821    614.45807    630.63        61.144123\n",
      "  -114.3879   ]]\n"
     ]
    },
    {
     "data": {
      "image/png": "[encoded data removed]",
      "text/plain": [
       "<Figure size 360x360 with 1 Axes>"
      ]
     },
     "metadata": {},
     "output_type": "display_data"
    },
    {
     "name": "stdout",
     "output_type": "stream",
     "text": [
      "13.0 ['12.0.0.0.0040.jpg']\n",
      "[[  16.233603  -38.523754 -392.3407    -23.04931  -206.52847   -54.85971\n",
      "    40.55964   235.70287  -105.38953   -93.523926 -432.83453   122.432945\n",
      "   508.4339    561.5366     59.532833   63.75227 ]]\n"
     ]
    },
    {
     "data": {
      "image/png": "[encoded data removed]",
      "text/plain": [
       "<Figure size 360x360 with 1 Axes>"
      ]
     },
     "metadata": {},
     "output_type": "display_data"
    },
    {
     "name": "stdout",
     "output_type": "stream",
     "text": [
      "13.0 ['12.0.0.1.0434.jpg']\n",
      "[[  20.520262 -166.10962  -391.87225    85.13624  -311.47394   -10.474737\n",
      "    45.891037  169.76297   -77.93363  -209.26001  -575.2592    249.1056\n",
      "   586.3948    597.3624    213.82404  -114.14918 ]]\n"
     ]
    },
    {
     "data": {
      "image/png": "[encoded data removed]",
      "text/plain": [
       "<Figure size 360x360 with 1 Axes>"
      ]
     },
     "metadata": {},
     "output_type": "display_data"
    },
    {
     "name": "stdout",
     "output_type": "stream",
     "text": [
      "13.0 ['12.0.0.1.0401.jpg']\n",
      "[[   2.527852  -97.60111  -364.492       6.069685 -311.90408   -33.29579\n",
      "  -102.79103   276.9721   -116.24043  -175.36212  -476.30487   171.90282\n",
      "   598.0059    621.9643    126.70724   -65.57319 ]]\n"
     ]
    },
    {
     "data": {
      "image/png": "[encoded data removed]",
      "text/plain": [
       "<Figure size 360x360 with 1 Axes>"
      ]
     },
     "metadata": {},
     "output_type": "display_data"
    },
    {
     "name": "stdout",
     "output_type": "stream",
     "text": [
      "13.0 ['07.2.0.1.0435.jpg']\n",
      "[[  57.831635 -107.026764 -232.93312   -59.295982 -290.08356    22.89268\n",
      "  -123.77113   457.44196   -46.539436  -74.04293  -248.07045   -51.677868\n",
      "   362.50458   525.19183   135.40651   -62.5528  ]]\n"
     ]
    },
    {
     "data": {
      "image/png": "[encoded data removed]",
      "text/plain": [
       "<Figure size 360x360 with 1 Axes>"
      ]
     },
     "metadata": {},
     "output_type": "display_data"
    },
    {
     "name": "stdout",
     "output_type": "stream",
     "text": [
      "13.0 ['12.0.0.1.0407.jpg']\n",
      "[[  35.46973  -106.29653  -320.7515    -47.251293 -281.10254   -52.463543\n",
      "   -76.036705  310.95404   -90.37942  -157.37883  -444.99838   166.35364\n",
      "   585.9337    588.6134     80.73208   -62.51643 ]]\n"
     ]
    },
    {
     "data": {
      "image/png": "[encoded data removed]",
      "text/plain": [
       "<Figure size 360x360 with 1 Axes>"
      ]
     },
     "metadata": {},
     "output_type": "display_data"
    },
    {
     "name": "stdout",
     "output_type": "stream",
     "text": [
      "09.0 ['10.0.0.0.0195.jpg']\n",
      "[[-123.902145   21.525078 -447.9302    -46.72904   -21.810898  161.25644\n",
      "  -105.13142  -113.06596    34.893856  682.34753   645.3978   -115.90611\n",
      "   114.216774  208.39786  -167.04152   180.45692 ]]\n"
     ]
    },
    {
     "data": {
      "image/png": "[encoded data removed]",
      "text/plain": [
       "<Figure size 360x360 with 1 Axes>"
      ]
     },
     "metadata": {},
     "output_type": "display_data"
    },
    {
     "name": "stdout",
     "output_type": "stream",
     "text": [
      "13.0 ['11.0.0.1.0042.jpg']\n",
      "[[ 230.65936   128.0196   -161.41907   -15.341519 -362.0858    -12.081005\n",
      "   -67.62088   126.89457  -157.09834   -83.38624  -581.9765    567.12085\n",
      "   137.17897   605.8793    103.08277  -160.95631 ]]\n"
     ]
    },
    {
     "data": {
      "image/png": "[encoded data removed]",
      "text/plain": [
       "<Figure size 360x360 with 1 Axes>"
      ]
     },
     "metadata": {},
     "output_type": "display_data"
    },
    {
     "name": "stdout",
     "output_type": "stream",
     "text": [
      "13.0 ['12.0.0.1.0004.jpg']\n",
      "[[  98.02501    24.551254 -229.51599    47.505024 -314.91302    17.064032\n",
      "   -36.039555  392.98822   -37.25531  -104.96956  -390.26675    23.23911\n",
      "   445.0183    467.14734    95.648926 -226.33078 ]]\n"
     ]
    },
    {
     "data": {
      "image/png": "[encoded data removed]",
      "text/plain": [
       "<Figure size 360x360 with 1 Axes>"
      ]
     },
     "metadata": {},
     "output_type": "display_data"
    }
   ],
   "source": [
    "tf.reset_default_graph()\n",
    "# Create some variables.\n",
    "x = tf.placeholder(tf.float32, shape=[None, 28, 28, 3])\n",
    "y_ = tf.placeholder(tf.float32, shape=[None, len(position_dict)])\n",
    "\n",
    "#x_image = tf.reshape(x, [-1, 28, 28, 1])\n",
    "conv1 = conv_layer(x, shape=[5, 5, 3, 64])\n",
    "conv1_pool = max_pool_2x2(conv1)\n",
    "\n",
    "conv2 = conv_layer(conv1_pool, shape=[5, 5, 64, 128])\n",
    "conv2_pool = max_pool_2x2(conv2)\n",
    "\n",
    "conv2_flat = tf.reshape(conv2_pool, [-1, 7*7*128])\n",
    "full_1 = tf.nn.relu(full_layer(conv2_flat, 1024))\n",
    "\n",
    "keep_prob = tf.placeholder(tf.float32)\n",
    "full1_drop = tf.nn.dropout(full_1, keep_prob=keep_prob)\n",
    "\n",
    "y_conv = full_layer(full1_drop, len(position_dict))\n",
    "\n",
    "cross_entropy = tf.reduce_mean(tf.nn.softmax_cross_entropy_with_logits(logits=y_conv, labels=y_))\n",
    "train_step = tf.train.AdamOptimizer(1e-4).minimize(cross_entropy)\n",
    "correct_prediction = tf.equal(tf.argmax(y_conv, 1), tf.argmax(y_, 1))\n",
    "accuracy = tf.reduce_mean(tf.cast(correct_prediction, tf.float32))\n",
    "\n",
    "\n",
    "# Add ops to save and restore only `v2` using the name \"v2\"\n",
    "saver = tf.train.Saver()\n",
    "\n",
    "\n",
    "# Use the saver object normally after that.\n",
    "with tf.Session() as sess:\n",
    "    saver.restore(sess, model_path)\n",
    "\n",
    "    X_batch, y_batch, file_name = test_img.get_batch(10)\n",
    "    test_accuracy = np.mean([sess.run(accuracy, feed_dict={x: X_batch, y_: y_batch, keep_prob: 1.0})])\n",
    "\n",
    "    print(\"test accuracy: {}\".format(test_accuracy))\n",
    "    \n",
    "    for i in range(len(os.listdir(test_path))):\n",
    "\n",
    "        X_batch, y_batch, file_name = test_img.get_batch(1)\n",
    "\n",
    "        label = y_batch\n",
    "        image_ar = X_batch[0]\n",
    "        if label_dict[np.argmax(sess.run(tf.nn.softmax(y_conv, 1),\n",
    "                                         feed_dict={x: X_batch,\n",
    "                                                    y_: y_batch, \n",
    "                                                    keep_prob: 1}))] != label_dict[np.argmax(label)]:\n",
    "            \n",
    "            print(label_dict[np.argmax(sess.run(\n",
    "                tf.nn.softmax(y_conv, 1), \n",
    "                feed_dict={x: X_batch, y_: y_batch, keep_prob: 1}))], file_name)\n",
    "            print(sess.run(tf.cast(y_conv, 1), feed_dict={x: X_batch, y_: y_batch, keep_prob: 1}))\n",
    "\n",
    "\n",
    "\n",
    "\n",
    "            fig = plt.figure(figsize=(5,5))\n",
    "            ax1 = fig.add_subplot(1, 2, 1)\n",
    "            ax1.axis('off')\n",
    "            ax1.set_title('Pixel:\\n' + label_dict[np.argmax(label)])\n",
    "            ax1.imshow(image_ar);\n",
    "            plt.show()"
   ]
  },
  {
   "cell_type": "code",
   "execution_count": 21,
   "metadata": {},
   "outputs": [
    {
     "name": "stdout",
     "output_type": "stream",
     "text": [
      "28 Fehler bei 5521 Testbildern\n"
     ]
    }
   ],
   "source": [
    "print(round(len(os.listdir(test_path)) * (1 - 0.9950000047683716)),\n",
    "      'Fehler bei' ,\n",
    "      len(os.listdir(test_path)), \n",
    "      'Testbildern')"
   ]
  }
 ],
 "metadata": {
  "kernelspec": {
   "display_name": "python3_tensorflow",
   "language": "python",
   "name": "python3_tensorflow"
  },
  "language_info": {
   "codemirror_mode": {
    "name": "ipython",
    "version": 3
   },
   "file_extension": ".py",
   "mimetype": "text/x-python",
   "name": "python",
   "nbconvert_exporter": "python",
   "pygments_lexer": "ipython3",
   "version": "3.6.6"
  }
 },
 "nbformat": 4,
 "nbformat_minor": 2
}
