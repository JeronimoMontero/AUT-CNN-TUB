{
 "cells": [
  {
   "cell_type": "code",
   "execution_count": 1,
   "metadata": {},
   "outputs": [],
   "source": [
    "import tensorflow as tf\n",
    "import numpy as np\n",
    "import cv2\n",
    "\n",
    "import os\n",
    "import glob\n",
    "import matplotlib.pyplot as plt\n",
    "import matplotlib.image as mpimg\n",
    "import pandas as pd"
   ]
  },
  {
   "cell_type": "code",
   "execution_count": 2,
   "metadata": {},
   "outputs": [],
   "source": [
    "from layers import conv_layer, max_pool_2x2, full_layer\n",
    "\n",
    "MINIBATCH_SIZE = 50\n",
    "STEPS = 10000\n",
    "\n",
    "home = os.getcwd().split('AUT-CNN-TUB')[0]\n",
    "test_path  = os.path.join(home,'AUT-CNN-TUB/Data/TF_Images_merge_28/test/')\n",
    "train_path = os.path.join(home,'AUT-CNN-TUB/Data/TF_Images_merge_28/train/')\n",
    "validate_path = os.path.join(home,'AUT-CNN-TUB/Data/TF_Images_Validation_28/train/')\n",
    "\n",
    "model_path  = os.path.join(home,'AUT-CNN-TUB', \n",
    "                           'Data',\n",
    "                           'Models',\n",
    "                           'aws_28',\n",
    "                           '/home/jeronimo/git/AUT-CNN-TUB/Data/Models/aws_28/model_merge_28_b50_s10000_2018-8-29_18-57.ckpt')\n",
    "\n",
    "\n",
    "labels = ['01.0', '02.0', '03.0', '04.0', '05.0', '06.0', '07.1', '07.2',\n",
    "         '08.0', '09.0','10.0','11.0', '12.0','13.0','14.0', '15.0']\n",
    "position_dict = {k: v for v, k in enumerate(labels)}\n",
    "label_dict = {v : k  for v, k in enumerate(labels)}\n",
    "\n",
    "def label_to_binary(position_dict, label):\n",
    "    z = np.zeros(len(position_dict), dtype=int)\n",
    "    z[position_dict[label]] = 1 \n",
    "    return z\n",
    "\n",
    "def next_batch(path, size, GRBtoGray=False, flatten=False):\n",
    "    \n",
    "    data_path = os.path.join(path, '*g')  # ???\n",
    "    files = glob.glob(data_path)\n",
    "    num_imag = len(files)\n",
    "    Data = np.arange(0, num_imag)\n",
    "    batchindices = np.random.choice(Data, size=size,\n",
    "                                    replace=False)  # Zufallsstichprobe; reihenfolge beliebig; ohne zurückl.\n",
    "\n",
    "    label_list =[]\n",
    "    img_list = []\n",
    "    for i, file_path in enumerate(files):\n",
    "        if i in batchindices:\n",
    "            label_str = file_path.split('/')[-1][:4]\n",
    "            label_bin = label_to_binary(position_dict, label_str)\n",
    "\n",
    "            if GRBtoGray == True:\n",
    "                img = cv2.imread(file_path, flags=0)\n",
    "            else:\n",
    "                img = cv2.imread(file_path, flags=1)\n",
    "\n",
    "            if flatten == True:\n",
    "                img_list.append(img.flatten())\n",
    "                label_list.append(label_bin)\n",
    "            else:\n",
    "                img_list.append(img)\n",
    "                label_list.append(label_bin)\n",
    "\n",
    "    img_list = np.array(img_list)\n",
    "    label_list = np.array(label_list)\n",
    "\n",
    "\n",
    "    return img_list, label_list\n",
    "\n",
    "\n",
    "\n",
    "\n",
    "class DataGetter:\n",
    "    def __init__(self, path, GRBtoGray=False, flatten=False): \n",
    "        self.path  = path\n",
    "        self.GRBtoGray  = GRBtoGray\n",
    "        self.flatten  = flatten\n",
    "        self.batchindices = None\n",
    "        \n",
    "        self.data_path = os.path.join(self.path, '*g') \n",
    "        self.files = glob.glob(self.data_path)\n",
    "        self.num_imag = len(self.files)\n",
    "        self.Data = list(range(0, self.num_imag))\n",
    "\n",
    "    def get_batch(self,size):\n",
    "        \n",
    "        if len(self.Data) > size:\n",
    "            self.batchindices = list(np.random.choice(self.Data, size=size, replace=False))\n",
    "            for x in self.batchindices:\n",
    "                self.Data.remove(x) \n",
    "                \n",
    "        elif len(self.Data) == size:\n",
    "            self.batchindices = np.random.choice(self.Data, size=size, replace=False)  \n",
    "            self.Data = list(range(0, self.num_imag))\n",
    "\n",
    "            \n",
    "        else:\n",
    "            self.batchindices = np.random.choice(self.Data, size=len(self.Data), replace=False)  \n",
    "            self.Data = list(range(0, self.num_imag))\n",
    "\n",
    "\n",
    "\n",
    "            \n",
    "\n",
    "        label_list =[]\n",
    "        img_list = []\n",
    "        file_name_list = []\n",
    "        for i, file_path in enumerate(self.files):\n",
    "            if i in self.batchindices:\n",
    "                label_str = file_path.split('/')[-1][:4]\n",
    "                label_bin = label_to_binary(position_dict, label_str)\n",
    "\n",
    "                if self.GRBtoGray == True:\n",
    "                    img = cv2.imread(file_path, flags=0)\n",
    "                else:\n",
    "                    img = cv2.imread(file_path, flags=1)\n",
    "\n",
    "                if self.flatten == True:\n",
    "                    img_list.append(img.flatten())\n",
    "                    label_list.append(label_bin)\n",
    "                    file_name_list.append(file_path.split('/')[-1])\n",
    "                else:\n",
    "                    img_list.append(img)\n",
    "                    label_list.append(label_bin)\n",
    "                    file_name_list.append(file_path.split('/')[-1])\n",
    "\n",
    "        img_list = np.array(img_list)\n",
    "        label_list = np.array(label_list)\n",
    "\n",
    "\n",
    "        return img_list, label_list, file_name_list\n",
    "    \n",
    "test_img = DataGetter(test_path, False, False)\n",
    "train_img = DataGetter(train_path, False, False)"
   ]
  },
  {
   "cell_type": "code",
   "execution_count": 3,
   "metadata": {},
   "outputs": [
    {
     "data": {
      "text/plain": [
       "'/home/jeronimo/git/AUT-CNN-TUB/Data/Models/aws_28/model_merge_28_b50_s10000_2018-8-29_18-57.ckpt'"
      ]
     },
     "execution_count": 3,
     "metadata": {},
     "output_type": "execute_result"
    }
   ],
   "source": [
    "model_path"
   ]
  },
  {
   "cell_type": "code",
   "execution_count": 4,
   "metadata": {
    "scrolled": false
   },
   "outputs": [
    {
     "name": "stdout",
     "output_type": "stream",
     "text": [
      "WARNING:tensorflow:From <ipython-input-4-1cf9f404cef3>:22: softmax_cross_entropy_with_logits (from tensorflow.python.ops.nn_ops) is deprecated and will be removed in a future version.\n",
      "Instructions for updating:\n",
      "\n",
      "Future major versions of TensorFlow will allow gradients to flow\n",
      "into the labels input on backprop by default.\n",
      "\n",
      "See @{tf.nn.softmax_cross_entropy_with_logits_v2}.\n",
      "\n",
      "INFO:tensorflow:Restoring parameters from /home/jeronimo/git/AUT-CNN-TUB/Data/Models/aws_28/model_merge_28_b50_s10000_2018-8-29_18-57.ckpt\n",
      "test accuracy: 0.9940000176429749\n",
      "cross entropy: 0.18310534954071045\n"
     ]
    }
   ],
   "source": [
    "tf.reset_default_graph()\n",
    "# Create some variables.\n",
    "\n",
    "x = tf.placeholder(tf.float32, shape=[None, 28, 28, 3])\n",
    "y_ = tf.placeholder(tf.float32, shape=[None, len(position_dict)])\n",
    "\n",
    "#x_image = tf.reshape(x, [-1, 28, 28, 1])\n",
    "conv1 = conv_layer(x, shape=[5, 5, 3, 64])\n",
    "conv1_pool = max_pool_2x2(conv1)\n",
    "\n",
    "conv2 = conv_layer(conv1_pool, shape=[5, 5, 64, 128])\n",
    "conv2_pool = max_pool_2x2(conv2)\n",
    "\n",
    "conv2_flat = tf.reshape(conv2_pool, [-1, 7*7*128])\n",
    "full_1 = tf.nn.relu(full_layer(conv2_flat, 1024))\n",
    "\n",
    "keep_prob = tf.placeholder(tf.float32)\n",
    "full1_drop = tf.nn.dropout(full_1, keep_prob=keep_prob)\n",
    "\n",
    "y_conv = full_layer(full1_drop, len(position_dict))\n",
    "\n",
    "cross_entropy = tf.reduce_mean(tf.nn.softmax_cross_entropy_with_logits(logits=y_conv, labels=y_))\n",
    "train_step = tf.train.AdamOptimizer(1e-4).minimize(cross_entropy)\n",
    "correct_prediction = tf.equal(tf.argmax(y_conv, 1), tf.argmax(y_, 1))\n",
    "accuracy = tf.reduce_mean(tf.cast(correct_prediction, tf.float32))\n",
    "\n",
    "# Add ops to save and restore only `v2` using the name \"v2\"\n",
    "saver = tf.train.Saver()\n",
    "\n",
    "\n",
    "# Use the saver object normally after that.\n",
    "with tf.Session() as sess:\n",
    "    # Initialize v1 since the saver will not.\n",
    "    #v1.initializer.run()\n",
    "    saver.restore(sess, model_path)\n",
    "\n",
    "    X_batch, y_batch, file_name = test_img.get_batch(2000)#len(os.listdir(test_path)))\n",
    "\n",
    "    test_accuracy = sess.run(accuracy, feed_dict={x: X_batch, y_: y_batch, keep_prob: 1.0})\n",
    "    cross_entro = sess.run(cross_entropy, feed_dict={x: X_batch, y_: y_batch, keep_prob: 1.0})\n",
    "\n",
    "    print(\"test accuracy: {}\".format(test_accuracy))\n",
    "    print(\"cross entropy: {}\".format(cross_entro))"
   ]
  },
  {
   "cell_type": "code",
   "execution_count": null,
   "metadata": {
    "scrolled": true
   },
   "outputs": [
    {
     "name": "stdout",
     "output_type": "stream",
     "text": [
      "INFO:tensorflow:Restoring parameters from /home/jeronimo/git/AUT-CNN-TUB/Data/Models/aws_28/model_merge_28_b50_s10000_2018-8-29_18-57.ckpt\n",
      "13.0 ['07.2.0.2.0260.jpg']\n",
      "[[  -5.565493  -25.255583  -18.192284  -65.30483  -133.22604    73.82794\n",
      "    14.22658   380.5885   -112.36124  -204.60544  -295.59506    19.297283\n",
      "   184.57507   457.7149     68.01957  -168.85396 ]]\n"
     ]
    },
    {
     "data": {
      "image/png": "[encoded data removed]",
      "text/plain": [
       "<Figure size 360x360 with 1 Axes>"
      ]
     },
     "metadata": {},
     "output_type": "display_data"
    },
    {
     "name": "stdout",
     "output_type": "stream",
     "text": [
      "13.0 ['12.0.0.1.0170.jpg']\n",
      "[[ 5.4198813e+00  3.5183140e+01 -3.0907083e+02  1.0158702e+02\n",
      "  -3.9494571e+02  2.8700924e+01 -1.1370860e-02  3.7494968e+02\n",
      "  -1.4530966e+02 -1.3707973e+02 -5.2290350e+02  1.6305878e+02\n",
      "   6.0854596e+02  6.2229510e+02  3.9432987e+01 -1.1146184e+02]]\n"
     ]
    },
    {
     "data": {
      "image/png": "[encoded data removed]",
      "text/plain": [
       "<Figure size 360x360 with 1 Axes>"
      ]
     },
     "metadata": {},
     "output_type": "display_data"
    },
    {
     "name": "stdout",
     "output_type": "stream",
     "text": [
      "13.0 ['15.0.0.0.0141.jpg']\n",
      "[[ 102.137535 -149.56104  -380.4324    -90.92772  -225.59412     5.09658\n",
      "   103.14257   -25.549091   37.373135  137.84723  -354.1567    131.84825\n",
      "    41.597733  452.73438    84.29878   389.45377 ]]\n"
     ]
    },
    {
     "data": {
      "image/png": "[encoded data removed]",
      "text/plain": [
       "<Figure size 360x360 with 1 Axes>"
      ]
     },
     "metadata": {},
     "output_type": "display_data"
    },
    {
     "name": "stdout",
     "output_type": "stream",
     "text": [
      "13.0 ['12.0.0.0.0093.jpg']\n",
      "[[ -84.754524    -6.7601147 -371.75894     -1.4272324 -252.5583\n",
      "   -82.52965     39.875942   237.43674   -143.27681   -146.98566\n",
      "  -428.85522     85.071396   350.54996    380.5278      65.82345\n",
      "    84.21541  ]]\n"
     ]
    },
    {
     "data": {
      "image/png": "[encoded data removed]",
      "text/plain": [
       "<Figure size 360x360 with 1 Axes>"
      ]
     },
     "metadata": {},
     "output_type": "display_data"
    }
   ],
   "source": [
    "tf.reset_default_graph()\n",
    "# Create some variables.\n",
    "x = tf.placeholder(tf.float32, shape=[None, 28, 28, 3])\n",
    "y_ = tf.placeholder(tf.float32, shape=[None, len(position_dict)])\n",
    "\n",
    "#x_image = tf.reshape(x, [-1, 28, 28, 1])\n",
    "conv1 = conv_layer(x, shape=[5, 5, 3, 64])\n",
    "conv1_pool = max_pool_2x2(conv1)\n",
    "\n",
    "conv2 = conv_layer(conv1_pool, shape=[5, 5, 64, 128])\n",
    "conv2_pool = max_pool_2x2(conv2)\n",
    "\n",
    "conv2_flat = tf.reshape(conv2_pool, [-1, 7*7*128])\n",
    "full_1 = tf.nn.relu(full_layer(conv2_flat, 1024))\n",
    "\n",
    "keep_prob = tf.placeholder(tf.float32)\n",
    "full1_drop = tf.nn.dropout(full_1, keep_prob=keep_prob)\n",
    "\n",
    "y_conv = full_layer(full1_drop, len(position_dict))\n",
    "\n",
    "cross_entropy = tf.reduce_mean(tf.nn.softmax_cross_entropy_with_logits(logits=y_conv, labels=y_))\n",
    "train_step = tf.train.AdamOptimizer(1e-4).minimize(cross_entropy)\n",
    "correct_prediction = tf.equal(tf.argmax(y_conv, 1), tf.argmax(y_, 1))\n",
    "accuracy = tf.reduce_mean(tf.cast(correct_prediction, tf.float32))\n",
    "\n",
    "\n",
    "# Add ops to save and restore only `v2` using the name \"v2\"\n",
    "saver = tf.train.Saver()\n",
    "\n",
    "\n",
    "# Use the saver object normally after that.\n",
    "with tf.Session() as sess:\n",
    "    saver.restore(sess, model_path)\n",
    "\n",
    "    X_batch, y_batch, file_name = test_img.get_batch(10)\n",
    "    test_accuracy = np.mean([sess.run(accuracy, feed_dict={x: X_batch, y_: y_batch, keep_prob: 1.0})])\n",
    "\n",
    "    print(\"test accuracy: {}\".format(test_accuracy))\n",
    "    \n",
    "    for i in range(len(os.listdir(test_path))):\n",
    "\n",
    "        X_batch, y_batch, file_name = test_img.get_batch(1)\n",
    "\n",
    "        label = y_batch\n",
    "        image_ar = X_batch[0]\n",
    "        if label_dict[np.argmax(sess.run(tf.nn.softmax(y_conv, 1),\n",
    "                                         feed_dict={x: X_batch,\n",
    "                                                    y_: y_batch, \n",
    "                                                    keep_prob: 1}))] != label_dict[np.argmax(label)]:\n",
    "            \n",
    "            print(label_dict[np.argmax(sess.run(\n",
    "                tf.nn.softmax(y_conv, 1), \n",
    "                feed_dict={x: X_batch, y_: y_batch, keep_prob: 1}))], file_name)\n",
    "            print(sess.run(tf.cast(y_conv, 1), feed_dict={x: X_batch, y_: y_batch, keep_prob: 1}))\n",
    "\n",
    "\n",
    "\n",
    "\n",
    "            fig = plt.figure(figsize=(5,5))\n",
    "            ax1 = fig.add_subplot(1, 2, 1)\n",
    "            ax1.axis('off')\n",
    "            ax1.set_title('Pixel:\\n' + label_dict[np.argmax(label)])\n",
    "            ax1.imshow(image_ar);\n",
    "            plt.show()"
   ]
  },
  {
   "cell_type": "code",
   "execution_count": 21,
   "metadata": {},
   "outputs": [
    {
     "name": "stdout",
     "output_type": "stream",
     "text": [
      "28 Fehler bei 5521 Testbildern\n"
     ]
    }
   ],
   "source": [
    "print(round(len(os.listdir(test_path)) * (1 - 0.9950000047683716)),\n",
    "      'Fehler bei' ,\n",
    "      len(os.listdir(test_path)), \n",
    "      'Testbildern')"
   ]
  },
  {
   "cell_type": "code",
   "execution_count": null,
   "metadata": {},
   "outputs": [],
   "source": []
  },
  {
   "cell_type": "code",
   "execution_count": 86,
   "metadata": {},
   "outputs": [
    {
     "name": "stdout",
     "output_type": "stream",
     "text": [
      "INFO:tensorflow:Restoring parameters from /home/jeronimo/git/AUT-CNN-TUB/Data/Models/aws_28/model_merge_28_b50_s10000_2018-8-29_18-57.ckpt\n",
      "1\n",
      "01.0    194\n",
      "03.0      1\n",
      "dtype: int64\n",
      "2\n",
      "02.0    143\n",
      "dtype: int64\n",
      "3\n",
      "03.0    110\n",
      "01.0      2\n",
      "dtype: int64\n",
      "4\n",
      "04.0    117\n",
      "05.0      1\n",
      "dtype: int64\n",
      "5\n",
      "05.0    97\n",
      "04.0     7\n",
      "dtype: int64\n",
      "6\n",
      "06.0    52\n",
      "dtype: int64\n",
      "7.1\n",
      "07.1    127\n",
      "08.0      5\n",
      "13.0      1\n",
      "01.0      1\n",
      "dtype: int64\n",
      "7.2\n",
      "07.2    109\n",
      "13.0      8\n",
      "12.0      4\n",
      "10.0      1\n",
      "dtype: int64\n",
      "8\n",
      "08.0    141\n",
      "13.0      1\n",
      "15.0      1\n",
      "dtype: int64\n",
      "9\n",
      "09.0    147\n",
      "10.0      1\n",
      "dtype: int64\n",
      "10\n",
      "10.0    139\n",
      "09.0      9\n",
      "dtype: int64\n",
      "11\n",
      "11.0    154\n",
      "03.0      1\n",
      "dtype: int64\n",
      "13\n",
      "13.0    153\n",
      "07.2      1\n",
      "dtype: int64\n",
      "14\n",
      "14.0    166\n",
      "dtype: int64\n",
      "15\n",
      "15.0    164\n",
      "dtype: int64\n",
      "fertig\n"
     ]
    }
   ],
   "source": [
    "tf.reset_default_graph()\n",
    "# Create some variables.\n",
    "x = tf.placeholder(tf.float32, shape=[None, 28, 28, 3])\n",
    "y_ = tf.placeholder(tf.float32, shape=[None, len(position_dict)])\n",
    "\n",
    "#x_image = tf.reshape(x, [-1, 28, 28, 1])\n",
    "conv1 = conv_layer(x, shape=[5, 5, 3, 64])\n",
    "conv1_pool = max_pool_2x2(conv1)\n",
    "\n",
    "conv2 = conv_layer(conv1_pool, shape=[5, 5, 64, 128])\n",
    "conv2_pool = max_pool_2x2(conv2)\n",
    "\n",
    "conv2_flat = tf.reshape(conv2_pool, [-1, 7*7*128])\n",
    "full_1 = tf.nn.relu(full_layer(conv2_flat, 1024))\n",
    "\n",
    "keep_prob = tf.placeholder(tf.float32)\n",
    "full1_drop = tf.nn.dropout(full_1, keep_prob=keep_prob)\n",
    "\n",
    "y_conv = full_layer(full1_drop, len(position_dict))\n",
    "\n",
    "cross_entropy = tf.reduce_mean(tf.nn.softmax_cross_entropy_with_logits(logits=y_conv, labels=y_))\n",
    "train_step = tf.train.AdamOptimizer(1e-4).minimize(cross_entropy)\n",
    "correct_prediction = tf.equal(tf.argmax(y_conv, 1), tf.argmax(y_, 1))\n",
    "accuracy = tf.reduce_mean(tf.cast(correct_prediction, tf.float32))\n",
    "\n",
    "\n",
    "# Add ops to save and restore only `v2` using the name \"v2\"\n",
    "saver = tf.train.Saver()\n",
    "\n",
    "\n",
    "# Use the saver object normally after that.\n",
    "with tf.Session() as sess:\n",
    "    saver.restore(sess, model_path)\n",
    "\n",
    "    for num in ['1','2','3','4','5','6','7.1','7.2','8','9','10','11','13','14','15']:\n",
    "        predict =  []\n",
    "\n",
    "        #print((sess.run(tf.nn.softmax(y_conv, 1), \n",
    "         #                  feed_dict={x: img_list_array,  keep_prob: 1})))\n",
    "        files = os.listdir(os.path.join(home,'AUT-CNN-TUB/Data/27072018/27072018_canon_centered_28x28/{}/'.format(num)))\n",
    "        print(num)\n",
    "        for f in files:\n",
    "            img = cv2.imread(os.path.join(home,'AUT-CNN-TUB/Data/27072018/27072018_canon_centered_28x28/{}/'.format(num), f), flags=1)\n",
    "\n",
    "            predict.append(label_dict[np.argmax(sess.run(\n",
    "                        tf.nn.softmax(y_conv, 1), \n",
    "                        feed_dict={x: np.array([img]),  keep_prob: 1}))])\n",
    "\n",
    "        hist = pd.Series(predict)\n",
    "        print(hist.value_counts())\n",
    "\n",
    "    print('fertig')"
   ]
  },
  {
   "cell_type": "code",
   "execution_count": null,
   "metadata": {},
   "outputs": [],
   "source": []
  }
 ],
 "metadata": {
  "kernelspec": {
   "display_name": "python3_tensorflow",
   "language": "python",
   "name": "python3_tensorflow"
  },
  "language_info": {
   "codemirror_mode": {
    "name": "ipython",
    "version": 3
   },
   "file_extension": ".py",
   "mimetype": "text/x-python",
   "name": "python",
   "nbconvert_exporter": "python",
   "pygments_lexer": "ipython3",
   "version": "3.6.6"
  }
 },
 "nbformat": 4,
 "nbformat_minor": 2
}
