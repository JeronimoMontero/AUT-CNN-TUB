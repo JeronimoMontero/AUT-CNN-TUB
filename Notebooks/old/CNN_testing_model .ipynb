{
 "cells": [
  {
   "cell_type": "code",
   "execution_count": 1,
   "metadata": {},
   "outputs": [],
   "source": [
    "import tensorflow as tf\n",
    "import numpy as np\n",
    "import cv2\n",
    "\n",
    "import os\n",
    "import glob\n",
    "import matplotlib.pyplot as plt\n",
    "import matplotlib.image as mpimg\n"
   ]
  },
  {
   "cell_type": "code",
   "execution_count": 10,
   "metadata": {},
   "outputs": [],
   "source": [
    "from layers import conv_layer, max_pool_2x2, full_layer\n",
    "\n",
    "MINIBATCH_SIZE = 50\n",
    "STEPS = 5000\n",
    "\n",
    "home = os.getcwd().split('AUT-CNN-TUB')[0]\n",
    "test_path  = os.path.join(home,'AUT-CNN-TUB/Data/TF_Images_50/test/')\n",
    "train_path = os.path.join(home,'AUT-CNN-TUB/Data/TF_Images_50/train/')\n",
    "validate_path = os.path.join(home,'AUT-CNN-TUB/Data/TF_Images_Validation_28/train/')\n",
    "\n",
    "model_path  = os.path.join(home,'AUT-CNN-TUB', 'Data', 'Models', 'model_merged_2018-08-16_23-26.ckpt')\n",
    "\n",
    "\n",
    "labels = ['01.0', '02.0', '03.0', '04.0', '05.0', '06.0', '07.1', '07.2',\n",
    "         '08.0', '09.0','10.0','11.0', '12.0','13.0','14.0', '15.0']\n",
    "position_dict = {k: v for v, k in enumerate(labels)}\n",
    "label_dict = {v : k  for v, k in enumerate(labels)}\n",
    "\n",
    "def label_to_binary(position_dict, label):\n",
    "    z = np.zeros(len(position_dict), dtype=int)\n",
    "    z[position_dict[label]] = 1 \n",
    "    return z\n",
    "\n",
    "def next_batch(path, size, GRBtoGray=False, flatten=False):\n",
    "    \n",
    "    data_path = os.path.join(path, '*g')  # ???\n",
    "    files = glob.glob(data_path)\n",
    "    num_imag = len(files)\n",
    "    Data = np.arange(0, num_imag)\n",
    "    batchindices = np.random.choice(Data, size=size,\n",
    "                                    replace=False)  # Zufallsstichprobe; reihenfolge beliebig; ohne zurückl.\n",
    "\n",
    "    label_list =[]\n",
    "    img_list = []\n",
    "    for i, file_path in enumerate(files):\n",
    "        if i in batchindices:\n",
    "            label_str = file_path.split('/')[-1][:4]\n",
    "            label_bin = label_to_binary(position_dict, label_str)\n",
    "\n",
    "            if GRBtoGray == True:\n",
    "                img = cv2.imread(file_path, flags=0)\n",
    "            else:\n",
    "                img = cv2.imread(file_path, flags=1)\n",
    "\n",
    "            if flatten == True:\n",
    "                img_list.append(img.flatten())\n",
    "                label_list.append(label_bin)\n",
    "            else:\n",
    "                img_list.append(img)\n",
    "                label_list.append(label_bin)\n",
    "\n",
    "    img_list = np.array(img_list)\n",
    "    label_list = np.array(label_list)\n",
    "\n",
    "\n",
    "    return img_list, label_list\n",
    "\n",
    "\n",
    "\n",
    "\n",
    "class DataGetter:\n",
    "    def __init__(self, path, GRBtoGray=False, flatten=False): \n",
    "        self.path  = path\n",
    "        self.GRBtoGray  = GRBtoGray\n",
    "        self.flatten  = flatten\n",
    "        self.batchindices = None\n",
    "        \n",
    "        self.data_path = os.path.join(self.path, '*g') \n",
    "        self.files = glob.glob(self.data_path)\n",
    "        self.num_imag = len(self.files)\n",
    "        self.Data = list(range(0, self.num_imag))\n",
    "\n",
    "    def get_batch(self,size):\n",
    "        \n",
    "        if len(self.Data) > size:\n",
    "            self.batchindices = list(np.random.choice(self.Data, size=size, replace=False))\n",
    "            for x in self.batchindices:\n",
    "                self.Data.remove(x) \n",
    "                \n",
    "        elif len(self.Data) == size:\n",
    "            self.batchindices = np.random.choice(self.Data, size=size, replace=False)  \n",
    "            self.Data = list(range(0, self.num_imag))\n",
    "\n",
    "            \n",
    "        else:\n",
    "            self.batchindices = np.random.choice(self.Data, size=len(self.Data), replace=False)  \n",
    "            self.Data = list(range(0, self.num_imag))\n",
    "\n",
    "\n",
    "\n",
    "            \n",
    "\n",
    "        label_list =[]\n",
    "        img_list = []\n",
    "        file_name_list = []\n",
    "        for i, file_path in enumerate(self.files):\n",
    "            if i in self.batchindices:\n",
    "                label_str = file_path.split('/')[-1][:4]\n",
    "                label_bin = label_to_binary(position_dict, label_str)\n",
    "\n",
    "                if self.GRBtoGray == True:\n",
    "                    img = cv2.imread(file_path, flags=0)\n",
    "                else:\n",
    "                    img = cv2.imread(file_path, flags=1)\n",
    "\n",
    "                if self.flatten == True:\n",
    "                    img_list.append(img.flatten())\n",
    "                    label_list.append(label_bin)\n",
    "                    file_name_list.append(file_path.split('/')[-1])\n",
    "                else:\n",
    "                    img_list.append(img)\n",
    "                    label_list.append(label_bin)\n",
    "                    file_name_list.append(file_path.split('/')[-1])\n",
    "\n",
    "        img_list = np.array(img_list)\n",
    "        label_list = np.array(label_list)\n",
    "\n",
    "\n",
    "        return img_list, label_list, file_name_list\n",
    "    \n",
    "test_img = DataGetter(test_path, False, False)\n",
    "train_img = DataGetter(train_path, False, False)\n",
    "validate_img = DataGetter(validate_path, False, False)"
   ]
  },
  {
   "cell_type": "code",
   "execution_count": 11,
   "metadata": {},
   "outputs": [
    {
     "data": {
      "text/plain": [
       "'/home/jeronimo/git/AUT-CNN-TUB/Data/Models/model_2018-08-12_15-19.ckpt'"
      ]
     },
     "execution_count": 11,
     "metadata": {},
     "output_type": "execute_result"
    }
   ],
   "source": [
    "model_path"
   ]
  },
  {
   "cell_type": "code",
   "execution_count": 12,
   "metadata": {
    "scrolled": false
   },
   "outputs": [
    {
     "name": "stdout",
     "output_type": "stream",
     "text": [
      "INFO:tensorflow:Restoring parameters from /home/jeronimo/git/AUT-CNN-TUB/Data/Models/model_2018-08-12_15-19.ckpt\n"
     ]
    },
    {
     "ename": "ValueError",
     "evalue": "Cannot feed value of shape (200, 50, 50, 3) for Tensor 'Placeholder:0', which has shape '(?, 28, 28, 3)'",
     "output_type": "error",
     "traceback": [
      "\u001b[0;31m---------------------------------------------------------------------------\u001b[0m",
      "\u001b[0;31mValueError\u001b[0m                                Traceback (most recent call last)",
      "\u001b[0;32m<ipython-input-12-d34d7899f4b1>\u001b[0m in \u001b[0;36m<module>\u001b[0;34m()\u001b[0m\n\u001b[1;32m     37\u001b[0m     \u001b[0mX_batch\u001b[0m\u001b[0;34m,\u001b[0m \u001b[0my_batch\u001b[0m\u001b[0;34m,\u001b[0m \u001b[0mfile_name\u001b[0m \u001b[0;34m=\u001b[0m \u001b[0mtest_img\u001b[0m\u001b[0;34m.\u001b[0m\u001b[0mget_batch\u001b[0m\u001b[0;34m(\u001b[0m\u001b[0;36m200\u001b[0m\u001b[0;34m)\u001b[0m\u001b[0;31m#len(os.listdir(test_path)))\u001b[0m\u001b[0;34m\u001b[0m\u001b[0m\n\u001b[1;32m     38\u001b[0m \u001b[0;34m\u001b[0m\u001b[0m\n\u001b[0;32m---> 39\u001b[0;31m     \u001b[0mtest_accuracy\u001b[0m \u001b[0;34m=\u001b[0m \u001b[0mnp\u001b[0m\u001b[0;34m.\u001b[0m\u001b[0mmean\u001b[0m\u001b[0;34m(\u001b[0m\u001b[0msess\u001b[0m\u001b[0;34m.\u001b[0m\u001b[0mrun\u001b[0m\u001b[0;34m(\u001b[0m\u001b[0maccuracy\u001b[0m\u001b[0;34m,\u001b[0m \u001b[0mfeed_dict\u001b[0m\u001b[0;34m=\u001b[0m\u001b[0;34m{\u001b[0m\u001b[0mx\u001b[0m\u001b[0;34m:\u001b[0m \u001b[0mX_batch\u001b[0m\u001b[0;34m,\u001b[0m \u001b[0my_\u001b[0m\u001b[0;34m:\u001b[0m \u001b[0my_batch\u001b[0m\u001b[0;34m,\u001b[0m \u001b[0mkeep_prob\u001b[0m\u001b[0;34m:\u001b[0m \u001b[0;36m1.0\u001b[0m\u001b[0;34m}\u001b[0m\u001b[0;34m)\u001b[0m\u001b[0;34m)\u001b[0m\u001b[0;34m\u001b[0m\u001b[0m\n\u001b[0m\u001b[1;32m     40\u001b[0m \u001b[0;34m\u001b[0m\u001b[0m\n\u001b[1;32m     41\u001b[0m     \u001b[0mprint\u001b[0m\u001b[0;34m(\u001b[0m\u001b[0;34m\"test accuracy: {}\"\u001b[0m\u001b[0;34m.\u001b[0m\u001b[0mformat\u001b[0m\u001b[0;34m(\u001b[0m\u001b[0mtest_accuracy\u001b[0m\u001b[0;34m)\u001b[0m\u001b[0;34m)\u001b[0m\u001b[0;34m\u001b[0m\u001b[0m\n",
      "\u001b[0;32m~/envs/tensorflow/lib/python3.6/site-packages/tensorflow/python/client/session.py\u001b[0m in \u001b[0;36mrun\u001b[0;34m(self, fetches, feed_dict, options, run_metadata)\u001b[0m\n\u001b[1;32m    898\u001b[0m     \u001b[0;32mtry\u001b[0m\u001b[0;34m:\u001b[0m\u001b[0;34m\u001b[0m\u001b[0m\n\u001b[1;32m    899\u001b[0m       result = self._run(None, fetches, feed_dict, options_ptr,\n\u001b[0;32m--> 900\u001b[0;31m                          run_metadata_ptr)\n\u001b[0m\u001b[1;32m    901\u001b[0m       \u001b[0;32mif\u001b[0m \u001b[0mrun_metadata\u001b[0m\u001b[0;34m:\u001b[0m\u001b[0;34m\u001b[0m\u001b[0m\n\u001b[1;32m    902\u001b[0m         \u001b[0mproto_data\u001b[0m \u001b[0;34m=\u001b[0m \u001b[0mtf_session\u001b[0m\u001b[0;34m.\u001b[0m\u001b[0mTF_GetBuffer\u001b[0m\u001b[0;34m(\u001b[0m\u001b[0mrun_metadata_ptr\u001b[0m\u001b[0;34m)\u001b[0m\u001b[0;34m\u001b[0m\u001b[0m\n",
      "\u001b[0;32m~/envs/tensorflow/lib/python3.6/site-packages/tensorflow/python/client/session.py\u001b[0m in \u001b[0;36m_run\u001b[0;34m(self, handle, fetches, feed_dict, options, run_metadata)\u001b[0m\n\u001b[1;32m   1109\u001b[0m                              \u001b[0;34m'which has shape %r'\u001b[0m \u001b[0;34m%\u001b[0m\u001b[0;34m\u001b[0m\u001b[0m\n\u001b[1;32m   1110\u001b[0m                              (np_val.shape, subfeed_t.name,\n\u001b[0;32m-> 1111\u001b[0;31m                               str(subfeed_t.get_shape())))\n\u001b[0m\u001b[1;32m   1112\u001b[0m           \u001b[0;32mif\u001b[0m \u001b[0;32mnot\u001b[0m \u001b[0mself\u001b[0m\u001b[0;34m.\u001b[0m\u001b[0mgraph\u001b[0m\u001b[0;34m.\u001b[0m\u001b[0mis_feedable\u001b[0m\u001b[0;34m(\u001b[0m\u001b[0msubfeed_t\u001b[0m\u001b[0;34m)\u001b[0m\u001b[0;34m:\u001b[0m\u001b[0;34m\u001b[0m\u001b[0m\n\u001b[1;32m   1113\u001b[0m             \u001b[0;32mraise\u001b[0m \u001b[0mValueError\u001b[0m\u001b[0;34m(\u001b[0m\u001b[0;34m'Tensor %s may not be fed.'\u001b[0m \u001b[0;34m%\u001b[0m \u001b[0msubfeed_t\u001b[0m\u001b[0;34m)\u001b[0m\u001b[0;34m\u001b[0m\u001b[0m\n",
      "\u001b[0;31mValueError\u001b[0m: Cannot feed value of shape (200, 50, 50, 3) for Tensor 'Placeholder:0', which has shape '(?, 28, 28, 3)'"
     ]
    }
   ],
   "source": [
    "tf.reset_default_graph()\n",
    "# Create some variables.\n",
    "\n",
    "x = tf.placeholder(tf.float32, shape=[None, 28, 28, 3])\n",
    "y_ = tf.placeholder(tf.float32, shape=[None, len(position_dict)])\n",
    "\n",
    "#x_image = tf.reshape(x, [-1, 28, 28, 1])\n",
    "conv1 = conv_layer(x, shape=[5, 5, 3, 64])\n",
    "conv1_pool = max_pool_2x2(conv1)\n",
    "\n",
    "conv2 = conv_layer(conv1_pool, shape=[5, 5, 64, 128])\n",
    "conv2_pool = max_pool_2x2(conv2)\n",
    "\n",
    "conv2_flat = tf.reshape(conv2_pool, [-1, 7*7*128])\n",
    "full_1 = tf.nn.relu(full_layer(conv2_flat, 1024))\n",
    "\n",
    "keep_prob = tf.placeholder(tf.float32)\n",
    "full1_drop = tf.nn.dropout(full_1, keep_prob=keep_prob)\n",
    "\n",
    "y_conv = full_layer(full1_drop, len(position_dict))\n",
    "\n",
    "cross_entropy = tf.reduce_mean(tf.nn.softmax_cross_entropy_with_logits(logits=y_conv, labels=y_))\n",
    "train_step = tf.train.AdamOptimizer(1e-4).minimize(cross_entropy)\n",
    "correct_prediction = tf.equal(tf.argmax(y_conv, 1), tf.argmax(y_, 1))\n",
    "accuracy = tf.reduce_mean(tf.cast(correct_prediction, tf.float32))\n",
    "\n",
    "# Add ops to save and restore only `v2` using the name \"v2\"\n",
    "saver = tf.train.Saver()\n",
    "\n",
    "\n",
    "# Use the saver object normally after that.\n",
    "with tf.Session() as sess:\n",
    "    # Initialize v1 since the saver will not.\n",
    "    #v1.initializer.run()\n",
    "    saver.restore(sess, model_path)\n",
    "\n",
    "    X_batch, y_batch, file_name = test_img.get_batch(200)#len(os.listdir(test_path)))\n",
    "\n",
    "    test_accuracy = np.mean(sess.run(accuracy, feed_dict={x: X_batch, y_: y_batch, keep_prob: 1.0}))\n",
    "\n",
    "    print(\"test accuracy: {}\".format(test_accuracy))"
   ]
  },
  {
   "cell_type": "code",
   "execution_count": null,
   "metadata": {
    "scrolled": false
   },
   "outputs": [],
   "source": [
    "tf.reset_default_graph()\n",
    "# Create some variables.\n",
    "x = tf.placeholder(tf.float32, shape=[None, 50, 50, 3])\n",
    "y_ = tf.placeholder(tf.float32, shape=[None, len(position_dict)])\n",
    "\n",
    "#x_image = tf.reshape(x, [-1, 28, 28, 1])\n",
    "conv1 = conv_layer(x, shape=[10, 10, 3, 64])\n",
    "conv1_pool = max_pool_2x2(conv1)\n",
    "\n",
    "conv2 = conv_layer(conv1_pool, shape=[10, 10, 64, 128])\n",
    "conv2_pool = max_pool_2x2(conv2)\n",
    "\n",
    "conv2_flat = tf.reshape(conv2_pool, [-1, 13*13*128])\n",
    "full_1 = tf.nn.relu(full_layer(conv2_flat, 1024))\n",
    "\n",
    "keep_prob = tf.placeholder(tf.float32)\n",
    "full1_drop = tf.nn.dropout(full_1, keep_prob=keep_prob)\n",
    "\n",
    "y_conv = full_layer(full1_drop, len(position_dict))\n",
    "\n",
    "cross_entropy = tf.reduce_mean(tf.nn.softmax_cross_entropy_with_logits(logits=y_conv, labels=y_))\n",
    "train_step = tf.train.AdamOptimizer(1e-4).minimize(cross_entropy)\n",
    "correct_prediction = tf.equal(tf.argmax(y_conv, 1), tf.argmax(y_, 1))\n",
    "accuracy = tf.reduce_mean(tf.cast(correct_prediction, tf.float32))\n",
    "\n",
    "\n",
    "# Add ops to save and restore only `v2` using the name \"v2\"\n",
    "saver = tf.train.Saver()\n",
    "\n",
    "\n",
    "# Use the saver object normally after that.\n",
    "with tf.Session() as sess:\n",
    "    saver.restore(sess, model_path)\n",
    "\n",
    "    X_batch, y_batch, file_name = test_img.get_batch(10)\n",
    "    test_accuracy = np.mean([sess.run(accuracy, feed_dict={x: X_batch, y_: y_batch, keep_prob: 1.0})])\n",
    "\n",
    "    print(\"test accuracy: {}\".format(test_accuracy))\n",
    "    \n",
    "    for i in range(len(os.listdir(test_path))):\n",
    "\n",
    "        X_batch, y_batch, file_name = test_img.get_batch(1)\n",
    "\n",
    "        label = y_batch\n",
    "        image_ar = X_batch[0]\n",
    "        if label_dict[np.argmax(sess.run(tf.nn.softmax(y_conv, 1),\n",
    "                                         feed_dict={x: X_batch,\n",
    "                                                    y_: y_batch, \n",
    "                                                    keep_prob: 1}))] != label_dict[np.argmax(label)]:\n",
    "            \n",
    "            print(label_dict[np.argmax(sess.run(\n",
    "                tf.nn.softmax(y_conv, 1), \n",
    "                feed_dict={x: X_batch, y_: y_batch, keep_prob: 1}))], file_name)\n",
    "            print(sess.run(tf.cast(y_conv, 1), feed_dict={x: X_batch, y_: y_batch, keep_prob: 1}))\n",
    "\n",
    "\n",
    "\n",
    "\n",
    "            fig = plt.figure(figsize=(5,5))\n",
    "            ax1 = fig.add_subplot(1, 2, 1)\n",
    "            ax1.axis('off')\n",
    "            ax1.set_title('Pixel:\\n' + label_dict[np.argmax(label)])\n",
    "            ax1.imshow(image_ar);\n",
    "            plt.show()"
   ]
  },
  {
   "cell_type": "code",
   "execution_count": null,
   "metadata": {},
   "outputs": [],
   "source": []
  },
  {
   "cell_type": "code",
   "execution_count": 33,
   "metadata": {},
   "outputs": [
    {
     "name": "stdout",
     "output_type": "stream",
     "text": [
      "2 Fehler bei 4853 Testbildern\n"
     ]
    }
   ],
   "source": [
    "print(round(len(os.listdir(test_path)) * (1 - 0.999587893486023)),\n",
    "      'Fehler bei' ,\n",
    "      len(os.listdir(test_path)), \n",
    "      'Testbildern')"
   ]
  },
  {
   "cell_type": "markdown",
   "metadata": {},
   "source": [
    "### load raw image for testing"
   ]
  },
  {
   "cell_type": "code",
   "execution_count": 34,
   "metadata": {},
   "outputs": [
    {
     "data": {
      "text/plain": [
       "4853"
      ]
     },
     "execution_count": 34,
     "metadata": {},
     "output_type": "execute_result"
    }
   ],
   "source": [
    "home = os.getcwd().split('AUT-CNN-TUB')[0]\n",
    "test_path  = os.path.join(home,'AUT-CNN-TUB/Data/TF_Images_28/test/')\n",
    "data_path = os.path.join(test_path, '*g')  # ???\n",
    "\n",
    "files = glob.glob(data_path)\n",
    "num_imag = len(files)\n",
    "Data = np.arange(0, num_imag)\n",
    "len(files)"
   ]
  },
  {
   "cell_type": "code",
   "execution_count": null,
   "metadata": {},
   "outputs": [],
   "source": []
  }
 ],
 "metadata": {
  "kernelspec": {
   "display_name": "python3_tensorflow",
   "language": "python",
   "name": "python3_tensorflow"
  },
  "language_info": {
   "codemirror_mode": {
    "name": "ipython",
    "version": 3
   },
   "file_extension": ".py",
   "mimetype": "text/x-python",
   "name": "python",
   "nbconvert_exporter": "python",
   "pygments_lexer": "ipython3",
   "version": "3.6.6"
  }
 },
 "nbformat": 4,
 "nbformat_minor": 2
}
