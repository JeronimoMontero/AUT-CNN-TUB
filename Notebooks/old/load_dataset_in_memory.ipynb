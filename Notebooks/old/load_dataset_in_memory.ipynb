{
 "cells": [
  {
   "cell_type": "code",
   "execution_count": 22,
   "metadata": {},
   "outputs": [],
   "source": [
    "import tensorflow as tf\n",
    "import numpy as np\n",
    "import cv2\n",
    "import os\n",
    "import glob\n",
    "import time\n",
    "import datetime\n",
    "import logging\n",
    "import shutil\n",
    "import boto3\n",
    "import botocore\n",
    "import matplotlib.pyplot as plt\n",
    "%matplotlib inline\n"
   ]
  },
  {
   "cell_type": "code",
   "execution_count": 16,
   "metadata": {},
   "outputs": [],
   "source": [
    "PIXEL = 56\n",
    "COLOR = 3\n",
    "\n",
    "if COLOR is 3:\n",
    "    Gray = False\n",
    "elif COLOR is 1:\n",
    "    Gray = True\n",
    "else:\n",
    "    logger.error('COLOR has to be 1 or 3')\n",
    "home = os.getcwd().split('AUT-CNN-TUB')[0]\n",
    "test_path  = os.path.join(home,'AUT-CNN-TUB/Data/TF_Images_final_{}/test/'.format(PIXEL))\n",
    "train_path = os.path.join(home,'AUT-CNN-TUB/Data/TF_Images_final_{}/train/'.format(PIXEL))\n",
    "val_path = os.path.join(home,'AUT-CNN-TUB/Data/TF_Images_final_{}/validate'.format(PIXEL))\n",
    "\n",
    "test_number = len(os.listdir(test_path))\n",
    "train_number = len(os.listdir(train_path))\n",
    "val_number =  len(os.listdir(val_path))"
   ]
  },
  {
   "cell_type": "code",
   "execution_count": 17,
   "metadata": {},
   "outputs": [],
   "source": [
    "class DataGetter:\n",
    "    def __init__(self, path, GRBtoGray=False, flatten=False): \n",
    "        self.path  = path\n",
    "        self.GRBtoGray  = GRBtoGray\n",
    "        self.flatten  = flatten\n",
    "        self.batchindices = None\n",
    "        \n",
    "        self.data_path = os.path.join(self.path, '*g') \n",
    "        self.files = glob.glob(self.data_path)\n",
    "        self.num_imag = len(self.files)\n",
    "        self.Data = list(range(0, self.num_imag))\n",
    "\n",
    "    def get_batch(self,size):\n",
    "        \n",
    "        if len(self.Data) > size:\n",
    "            self.batchindices = list(np.random.choice(self.Data, size=size, replace=False))\n",
    "            for x in self.batchindices:\n",
    "                self.Data.remove(x) \n",
    "                \n",
    "        elif len(self.Data) == size: # new epoche\n",
    "            self.batchindices = np.random.choice(self.Data, size=size, replace=False)  \n",
    "            self.Data = list(range(0, self.num_imag))\n",
    "\n",
    "            \n",
    "        else: # new epoche\n",
    "            self.batchindices = np.random.choice(self.Data, size=len(self.Data), replace=False)  \n",
    "            self.Data = list(range(0, self.num_imag))\n",
    "\n",
    "\n",
    "\n",
    "            \n",
    "\n",
    "        label_list =[]\n",
    "        img_list = []\n",
    "        file_name_list = []\n",
    "        for i, file_path in enumerate(self.files):\n",
    "            if i in self.batchindices:\n",
    "                label_str = file_path.split('/')[-1][:4]\n",
    "                label_bin = label_to_binary(position_dict, label_str)\n",
    "\n",
    "                if self.GRBtoGray == True:\n",
    "                    img = cv2.imread(file_path, flags=0)\n",
    "                else:\n",
    "                    img = cv2.imread(file_path, flags=1)\n",
    "\n",
    "                if self.flatten == True:\n",
    "                    img_list.append(img.flatten())\n",
    "                    label_list.append(label_bin)\n",
    "                    file_name_list.append(file_path.split('/')[-1])\n",
    "                else:\n",
    "                    img_list.append(img)\n",
    "                    label_list.append(label_bin)\n",
    "                    file_name_list.append(file_path.split('/')[-1])\n",
    "\n",
    "        img_list = np.array(img_list)\n",
    "        label_list = np.array(label_list)\n",
    "\n",
    "\n",
    "        return img_list, label_list, file_name_list\n",
    "    \n",
    "test_img = DataGetter(test_path, Gray, False)\n",
    "train_img = DataGetter(train_path, Gray, False)\n",
    "val_img = DataGetter(val_path, Gray, False)\n"
   ]
  },
  {
   "cell_type": "code",
   "execution_count": 18,
   "metadata": {},
   "outputs": [],
   "source": [
    "train_number = len(os.listdir(train_path))\n",
    "\n",
    "labels = ['01.0', '02.0', '03.0', '04.0', '05.0', '06.0', '07.1', '07.2',\n",
    "         '08.0', '09.0','10.0','11.0', '12.0','13.0','14.0', '15.0']\n",
    "\n",
    "position_dict = {k: v for v, k in enumerate(labels)}\n",
    "label_dict = {v : k  for v, k in enumerate(labels)}\n",
    "\n",
    "def label_to_binary(position_dict, label):\n",
    "    z = np.zeros(len(position_dict), dtype=int)\n",
    "    z[position_dict[label]] = 1\n",
    "    return z"
   ]
  },
  {
   "cell_type": "code",
   "execution_count": 19,
   "metadata": {},
   "outputs": [],
   "source": [
    "\n",
    "img_list = []\n",
    "label_list = []\n",
    "file_name_list = []\n",
    "\n",
    "for file_path in glob.glob(os.path.join(train_path, '*g')):\n",
    "    img = cv2.imread(file_path)\n",
    "    label_str = file_path.split('/')[-1][:4]\n",
    "    label_bin = label_to_binary(position_dict, label_str)\n",
    "\n",
    "    img_list.append(img)\n",
    "    label_list.append(label_bin)\n",
    "    file_name_list.append(file_path.split('/')[-1])\n"
   ]
  },
  {
   "cell_type": "code",
   "execution_count": 11,
   "metadata": {},
   "outputs": [
    {
     "data": {
      "text/plain": [
       "30455"
      ]
     },
     "execution_count": 11,
     "metadata": {},
     "output_type": "execute_result"
    }
   ],
   "source": [
    "len(img_list)"
   ]
  },
  {
   "cell_type": "code",
   "execution_count": 26,
   "metadata": {},
   "outputs": [
    {
     "data": {
      "image/png": "[encoded data removed]",
      "text/plain": [
       "<Figure size 432x288 with 1 Axes>"
      ]
     },
     "metadata": {},
     "output_type": "display_data"
    }
   ],
   "source": [
    "plt.imshow(img_list[1])\n",
    "plt.show()"
   ]
  },
  {
   "cell_type": "code",
   "execution_count": null,
   "metadata": {},
   "outputs": [],
   "source": []
  },
  {
   "cell_type": "code",
   "execution_count": null,
   "metadata": {},
   "outputs": [],
   "source": []
  }
 ],
 "metadata": {
  "kernelspec": {
   "display_name": "python3_tensorflow",
   "language": "python",
   "name": "python3_tensorflow"
  },
  "language_info": {
   "codemirror_mode": {
    "name": "ipython",
    "version": 3
   },
   "file_extension": ".py",
   "mimetype": "text/x-python",
   "name": "python",
   "nbconvert_exporter": "python",
   "pygments_lexer": "ipython3",
   "version": "3.6.6"
  }
 },
 "nbformat": 4,
 "nbformat_minor": 2
}
