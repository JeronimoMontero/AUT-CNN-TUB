{
 "cells": [
  {
   "cell_type": "code",
   "execution_count": 1,
   "metadata": {},
   "outputs": [],
   "source": [
    "import numpy as np\n",
    "from IPython.display import set_matplotlib_formats\n",
    "from PIL import Image, ExifTags\n",
    "import random\n",
    "import cv2 \n",
    "import PIL\n",
    "import os\n",
    "import glob\n",
    "import Augmentor\n",
    "import pylab\n",
    "from Augmentor.Operations import Operation"
   ]
  },
  {
   "cell_type": "markdown",
   "metadata": {},
   "source": [
    "# Image Augmentation with Augmentor\n",
    " [link](https://augmentor.readthedocs.io/en/master/index.html) "
   ]
  },
  {
   "cell_type": "markdown",
   "metadata": {},
   "source": [
    "## change image orientation\n",
    "\n",
    "Check if all images have the correct orientation, if not change them and overwrite the old image in the folder."
   ]
  },
  {
   "cell_type": "code",
   "execution_count": 2,
   "metadata": {},
   "outputs": [],
   "source": [
    "home = os.getcwd().split('AUT-CNN-TUB')[0]\n",
    "labels = ['1','2','13','14','7.1','8','5','4','3','10','12','11','6','7.2','15','9']\n",
    "for label in labels:\n",
    "    aug_img_path =os.path.join(home,'/home/jeronimo/git/AUT-CNN-TUB/Data/Raw_Data_27072018_canon/', str(label))\n",
    "    aug_img_path_list = os.listdir(aug_img_path)\n",
    "\n",
    "    for i, img_name in enumerate(aug_img_path_list):\n",
    "        try:\n",
    "            image=Image.open(aug_img_path + '/' + img_name)\n",
    "            for orientation in ExifTags.TAGS.keys():\n",
    "                if ExifTags.TAGS[orientation]=='Orientation':\n",
    "                    break\n",
    "            exif=dict(image._getexif().items())\n",
    "\n",
    "            if exif[orientation] == 3:\n",
    "                image=image.rotate(180, expand=True)\n",
    "            elif exif[orientation] == 6:\n",
    "                image=image.rotate(270, expand=True)\n",
    "            elif exif[orientation] == 8:\n",
    "                image=image.rotate(90, expand=True)\n",
    "            image.save(aug_img_path + '/' + img_name)\n",
    "            image.close()\n",
    "\n",
    "        except (AttributeError, KeyError, IndexError):\n",
    "            # cases: image don't have getexif\n",
    "            pass"
   ]
  },
  {
   "cell_type": "markdown",
   "metadata": {},
   "source": [
    "## custom operations\n",
    "\n",
    "It's possible to create custom operation. This is useful if you want change the implemented operation or build those how not implemented yet. Bearbeiten\n",
    "\n",
    "Add __Salt__ and __Pepper__ and change the __Random-Erase__ area."
   ]
  },
  {
   "cell_type": "code",
   "execution_count": 3,
   "metadata": {},
   "outputs": [],
   "source": [
    "# Create your new operation by inheriting from the Operation superclass:\n",
    "class SaltPepper(Operation):\n",
    "    # Here you can accept as many custom parameters as required:\n",
    "    def __init__(self, probability, salt_vs_pepper = 0.2, amount = 0.004):\n",
    "        # Call the superclass's constructor (meaning you must\n",
    "        # supply a probability value):\n",
    "        Operation.__init__(self, probability)\n",
    "        # Set your custom operation's member variables here as required:\n",
    "        self.salt_vs_pepper = salt_vs_pepper\n",
    "        self.amount = amount\n",
    "\n",
    "\n",
    "    # Your class must implement the perform_operation method:\n",
    "    def perform_operation(self, images):\n",
    "        # Start of code to perform custom image operation.\n",
    "        augmented_images = []\n",
    "        for image in images:\n",
    "\n",
    "            image_array = np.array(image)\n",
    "\n",
    "            row, col, _ = image_array.shape    \n",
    "\n",
    "            num_salt = np.ceil(self.amount * row * col  * self.salt_vs_pepper)\n",
    "            num_pepper = np.ceil(self.amount * row * col * (1.0 - self.salt_vs_pepper))\n",
    "\n",
    "            # Add Salt noise\n",
    "            coords = [np.random.randint(0, i - 1, int(num_salt)) for i in image_array.shape]\n",
    "            image_array[coords[0], coords[1], :] = 0\n",
    "\n",
    "            # Add Pepper noise\n",
    "            coords = [np.random.randint(0, i - 1, int(num_pepper)) for i in image_array.shape]\n",
    "            image_array[coords[0], coords[1], :] = 255\n",
    "\n",
    "            # End of code to perform custom image operation.\n",
    "\n",
    "            # Return the image so that it can further processed in the pipeline:\n",
    "            augmented_images.append(Image.fromarray(image_array))\n",
    "        return augmented_images\n",
    "    \n",
    "class RandomErasing(Operation):\n",
    "    \"\"\"\n",
    "    Class that performs Random Erasing, an augmentation technique described\n",
    "    in `https://arxiv.org/abs/1708.04896 <https://arxiv.org/abs/1708.04896>`_\n",
    "    by Zhong et al. To quote the authors, random erasing:\n",
    "    \"*... randomly selects a rectangle region in an image, and erases its\n",
    "    pixels with random values.*\"\n",
    "    Exactly this is provided by this class.\n",
    "    Random Erasing can make a trained neural network more robust to occlusion.\n",
    "    \"\"\"\n",
    "    def __init__(self, probability, rectangle_area):\n",
    "        \"\"\"\n",
    "        The size of the random rectangle is controlled using the\n",
    "        :attr:`rectangle_area` parameter. This area is random in its\n",
    "        width and height.\n",
    "        :param probability: The probability that the operation will be\n",
    "         performed.\n",
    "        :param rectangle_area: The percentage are of the image to occlude.\n",
    "        \"\"\"\n",
    "        Operation.__init__(self, probability)\n",
    "        self.rectangle_area = rectangle_area\n",
    "\n",
    "    def perform_operation(self, images):\n",
    "        \"\"\"\n",
    "        Adds a random noise rectangle to a random area of the passed image,\n",
    "        returning the original image with this rectangle superimposed.\n",
    "        :param images: The image(s) to add a random noise rectangle to.\n",
    "        :type images: List containing PIL.Image object(s).\n",
    "        :return: The transformed image(s) as a list of object(s) of type\n",
    "         PIL.Image.\n",
    "        \"\"\"\n",
    "        augmented_images = []\n",
    "        for image in images:\n",
    "\n",
    "            w, h = image.size\n",
    "\n",
    "            w_occlusion_max = int(w * self.rectangle_area)\n",
    "            h_occlusion_max = int(h * self.rectangle_area)\n",
    "\n",
    "            w_occlusion_min = int(w * 0.01)\n",
    "            h_occlusion_min = int(h * 0.01)\n",
    "\n",
    "            w_occlusion = random.randint(w_occlusion_min, w_occlusion_max)\n",
    "            h_occlusion = random.randint(h_occlusion_min, h_occlusion_max)\n",
    "\n",
    "            if len(image.getbands()) == 1:\n",
    "                rectangle = Image.fromarray(np.uint8(np.random.rand(w_occlusion, h_occlusion) * 255))\n",
    "            else:\n",
    "                rectangle = Image.fromarray(np.uint8(np.random.rand(w_occlusion, h_occlusion,\n",
    "                                                                    len(image.getbands())) * 255))\n",
    "\n",
    "            random_position_x = random.randint(10, w - (w_occlusion + 10))\n",
    "            random_position_y = random.randint(10, h - (h_occlusion + 10))\n",
    "\n",
    "            image.paste(rectangle, (random_position_x, random_position_y))\n",
    "            augmented_images.append(image)\n",
    "\n",
    "        return augmented_images\n",
    "    "
   ]
  },
  {
   "cell_type": "markdown",
   "metadata": {},
   "source": [
    "# augment canon images"
   ]
  },
  {
   "cell_type": "code",
   "execution_count": 6,
   "metadata": {
    "scrolled": false
   },
   "outputs": [
    {
     "name": "stderr",
     "output_type": "stream",
     "text": [
      "\r",
      "Executing Pipeline:   0%|          | 0/612 [00:00<?, ? Samples/s]"
     ]
    },
    {
     "name": "stdout",
     "output_type": "stream",
     "text": [
      "Initialised with 204 image(s) found.\n",
      "Output directory set to /home/jeronimo/git/AUT-CNN-TUB/Data/27072018/aug/canon/1."
     ]
    },
    {
     "name": "stderr",
     "output_type": "stream",
     "text": [
      "Processing <PIL.JpegImagePlugin.JpegImageFile image mode=RGB size=720x480 at 0x7F0F91AA7048>: 100%|██████████| 612/612 [00:14<00:00, 41.51 Samples/s] \n",
      "Executing Pipeline:   0%|          | 0/564 [00:00<?, ? Samples/s]"
     ]
    },
    {
     "name": "stdout",
     "output_type": "stream",
     "text": [
      "Initialised with 188 image(s) found.\n",
      "Output directory set to /home/jeronimo/git/AUT-CNN-TUB/Data/27072018/aug/canon/2."
     ]
    },
    {
     "name": "stderr",
     "output_type": "stream",
     "text": [
      "Processing <PIL.Image.Image image mode=RGB size=720x480 at 0x7F0F91ABC2B0>: 100%|██████████| 564/564 [00:14<00:00, 38.05 Samples/s]                   \n",
      "Executing Pipeline:   0%|          | 0/471 [00:00<?, ? Samples/s]"
     ]
    },
    {
     "name": "stdout",
     "output_type": "stream",
     "text": [
      "Initialised with 157 image(s) found.\n",
      "Output directory set to /home/jeronimo/git/AUT-CNN-TUB/Data/27072018/aug/canon/13."
     ]
    },
    {
     "name": "stderr",
     "output_type": "stream",
     "text": [
      "Processing <PIL.Image.Image image mode=RGB size=720x480 at 0x7F0F91AE66A0>: 100%|██████████| 471/471 [00:13<00:00, 35.91 Samples/s]                   \n",
      "Executing Pipeline:   0%|          | 0/534 [00:00<?, ? Samples/s]"
     ]
    },
    {
     "name": "stdout",
     "output_type": "stream",
     "text": [
      "Initialised with 178 image(s) found.\n",
      "Output directory set to /home/jeronimo/git/AUT-CNN-TUB/Data/27072018/aug/canon/14."
     ]
    },
    {
     "name": "stderr",
     "output_type": "stream",
     "text": [
      "Processing <PIL.Image.Image image mode=RGB size=720x480 at 0x7F0F91B08208>: 100%|██████████| 534/534 [00:14<00:00, 36.97 Samples/s]                   \n",
      "Executing Pipeline:   0%|          | 0/423 [00:00<?, ? Samples/s]"
     ]
    },
    {
     "name": "stdout",
     "output_type": "stream",
     "text": [
      "Initialised with 141 image(s) found.\n",
      "Output directory set to /home/jeronimo/git/AUT-CNN-TUB/Data/27072018/aug/canon/7.1."
     ]
    },
    {
     "name": "stderr",
     "output_type": "stream",
     "text": [
      "Processing <PIL.Image.Image image mode=RGB size=720x480 at 0x7F0FC851DEF0>: 100%|██████████| 423/423 [00:11<00:00, 37.82 Samples/s]                   \n",
      "Executing Pipeline:   0%|          | 0/432 [00:00<?, ? Samples/s]"
     ]
    },
    {
     "name": "stdout",
     "output_type": "stream",
     "text": [
      "Initialised with 144 image(s) found.\n",
      "Output directory set to /home/jeronimo/git/AUT-CNN-TUB/Data/27072018/aug/canon/8."
     ]
    },
    {
     "name": "stderr",
     "output_type": "stream",
     "text": [
      "Processing <PIL.Image.Image image mode=RGB size=720x480 at 0x7F0F91B292B0>: 100%|██████████| 432/432 [00:11<00:00, 140.85 Samples/s]                  \n",
      "Executing Pipeline:   0%|          | 0/369 [00:00<?, ? Samples/s]"
     ]
    },
    {
     "name": "stdout",
     "output_type": "stream",
     "text": [
      "Initialised with 123 image(s) found.\n",
      "Output directory set to /home/jeronimo/git/AUT-CNN-TUB/Data/27072018/aug/canon/5."
     ]
    },
    {
     "name": "stderr",
     "output_type": "stream",
     "text": [
      "Processing <PIL.Image.Image image mode=RGB size=720x480 at 0x7F0F91A8D710>: 100%|██████████| 369/369 [00:09<00:00, 37.13 Samples/s]                  \n",
      "Executing Pipeline:   0%|          | 0/360 [00:00<?, ? Samples/s]"
     ]
    },
    {
     "name": "stdout",
     "output_type": "stream",
     "text": [
      "Initialised with 120 image(s) found.\n",
      "Output directory set to /home/jeronimo/git/AUT-CNN-TUB/Data/27072018/aug/canon/4."
     ]
    },
    {
     "name": "stderr",
     "output_type": "stream",
     "text": [
      "Processing <PIL.Image.Image image mode=RGB size=720x480 at 0x7F0F91B6EE48>: 100%|██████████| 360/360 [00:09<00:00, 37.29 Samples/s]                  \n",
      "Executing Pipeline:   0%|          | 0/372 [00:00<?, ? Samples/s]"
     ]
    },
    {
     "name": "stdout",
     "output_type": "stream",
     "text": [
      "Initialised with 124 image(s) found.\n",
      "Output directory set to /home/jeronimo/git/AUT-CNN-TUB/Data/27072018/aug/canon/3."
     ]
    },
    {
     "name": "stderr",
     "output_type": "stream",
     "text": [
      "Processing <PIL.Image.Image image mode=RGB size=720x480 at 0x7F0F933D2198>: 100%|██████████| 372/372 [00:09<00:00, 40.94 Samples/s]                  \n",
      "Executing Pipeline:   0%|          | 0/444 [00:00<?, ? Samples/s]"
     ]
    },
    {
     "name": "stdout",
     "output_type": "stream",
     "text": [
      "Initialised with 148 image(s) found.\n",
      "Output directory set to /home/jeronimo/git/AUT-CNN-TUB/Data/27072018/aug/canon/10."
     ]
    },
    {
     "name": "stderr",
     "output_type": "stream",
     "text": [
      "Processing <PIL.Image.Image image mode=RGB size=720x480 at 0x7F0F91AE6B00>: 100%|██████████| 444/444 [00:10<00:00, 40.81 Samples/s]                  \n",
      "Executing Pipeline:   0%|          | 0/495 [00:00<?, ? Samples/s]"
     ]
    },
    {
     "name": "stdout",
     "output_type": "stream",
     "text": [
      "Initialised with 165 image(s) found.\n",
      "Output directory set to /home/jeronimo/git/AUT-CNN-TUB/Data/27072018/aug/canon/12."
     ]
    },
    {
     "name": "stderr",
     "output_type": "stream",
     "text": [
      "Processing <PIL.Image.Image image mode=RGB size=720x480 at 0x7F0F91A8C390>: 100%|██████████| 495/495 [00:13<00:00, 35.47 Samples/s]                  \n",
      "Executing Pipeline:   0%|          | 0/480 [00:00<?, ? Samples/s]"
     ]
    },
    {
     "name": "stdout",
     "output_type": "stream",
     "text": [
      "Initialised with 160 image(s) found.\n",
      "Output directory set to /home/jeronimo/git/AUT-CNN-TUB/Data/27072018/aug/canon/11."
     ]
    },
    {
     "name": "stderr",
     "output_type": "stream",
     "text": [
      "Processing <PIL.Image.Image image mode=RGB size=720x480 at 0x7F0F91AD1438>: 100%|██████████| 480/480 [00:13<00:00, 34.96 Samples/s]                   \n",
      "Executing Pipeline:   0%|          | 0/213 [00:00<?, ? Samples/s]"
     ]
    },
    {
     "name": "stdout",
     "output_type": "stream",
     "text": [
      "Initialised with 71 image(s) found.\n",
      "Output directory set to /home/jeronimo/git/AUT-CNN-TUB/Data/27072018/aug/canon/6."
     ]
    },
    {
     "name": "stderr",
     "output_type": "stream",
     "text": [
      "Processing <PIL.Image.Image image mode=RGB size=720x480 at 0x7F0F91AF7240>: 100%|██████████| 213/213 [00:05<00:00, 37.77 Samples/s]                  \n",
      "Executing Pipeline:   0%|          | 0/369 [00:00<?, ? Samples/s]"
     ]
    },
    {
     "name": "stdout",
     "output_type": "stream",
     "text": [
      "Initialised with 123 image(s) found.\n",
      "Output directory set to /home/jeronimo/git/AUT-CNN-TUB/Data/27072018/aug/canon/7.2."
     ]
    },
    {
     "name": "stderr",
     "output_type": "stream",
     "text": [
      "Processing <PIL.Image.Image image mode=RGB size=720x480 at 0x7F0F933C5B70>: 100%|██████████| 369/369 [00:08<00:00, 43.48 Samples/s]                  \n",
      "Executing Pipeline:   0%|          | 0/492 [00:00<?, ? Samples/s]"
     ]
    },
    {
     "name": "stdout",
     "output_type": "stream",
     "text": [
      "Initialised with 164 image(s) found.\n",
      "Output directory set to /home/jeronimo/git/AUT-CNN-TUB/Data/27072018/aug/canon/15."
     ]
    },
    {
     "name": "stderr",
     "output_type": "stream",
     "text": [
      "Processing <PIL.Image.Image image mode=RGB size=720x480 at 0x7F0F91B173C8>: 100%|██████████| 492/492 [00:11<00:00, 42.01 Samples/s]                   \n",
      "Executing Pipeline:   0%|          | 0/450 [00:00<?, ? Samples/s]"
     ]
    },
    {
     "name": "stdout",
     "output_type": "stream",
     "text": [
      "Initialised with 150 image(s) found.\n",
      "Output directory set to /home/jeronimo/git/AUT-CNN-TUB/Data/27072018/aug/canon/9."
     ]
    },
    {
     "name": "stderr",
     "output_type": "stream",
     "text": [
      "Processing <PIL.Image.Image image mode=RGB size=720x480 at 0x7F0FC8519208>: 100%|██████████| 450/450 [00:11<00:00, 40.90 Samples/s]                   \n"
     ]
    }
   ],
   "source": [
    "###### Namen der Ordner \n",
    "labels = ['1','2','13','14','7.1','8','5','4','3','10','12','11','6','7.2','15','9']\n",
    "\n",
    "# Dateipfat den den Ordnern mit den Bildern.\n",
    "# D.h. im Ordner '.../Centered_28x28' die Ordner '1', '2' uns\n",
    "\n",
    "# Definieren des Pfades zu den Bildern, die Bearbeitet werden sollen\n",
    "home = os.getcwd().split('AUT-CNN-TUB')[0]\n",
    "data_path  = os.path.join(home,'AUT-CNN-TUB/Data/Raw_Data_27072018_canon/')\n",
    "\n",
    "# custom operations\n",
    "salt_pepper = SaltPepper(probability=0.5 , salt_vs_pepper= 0.2, amount= 0.004)\n",
    "random_erasing = RandomErasing(probability=0.8, rectangle_area=0.05)\n",
    "\n",
    "# Es werden alle oben angegebnen Ordner durchlaufen\n",
    "for label in labels:\n",
    "    # Anzahl der bilder Pro Ornderer (Bauteilart) ermitteln\n",
    "    img_path = os.path.join(data_path+label)\n",
    "    num_img = len(os.listdir(img_path))\n",
    "    \n",
    "    # Augmentor-Objekt wird angelegt mit aktuellem Ordner\n",
    "    p = Augmentor.Pipeline(data_path+label, \n",
    "                           output_directory=os.path.join(home,'AUT-CNN-TUB/Data/27072018/aug/canon',label ))\n",
    "    \n",
    "    # definieren der Operationen\n",
    "    # Hier können gern noch weitere hinzugefügt werden oder Wahrscheinlichkeiten geändert werden. \n",
    "    p.flip_left_right(probability=0.2)\n",
    "    p.rotate(probability=0.2, max_left_rotation=5, max_right_rotation=5)\n",
    "    #p.random_erasing(probability=0.8, rectangle_area=0.11)\n",
    "    #p.random_erasing(probability=0.8, rectangle_area=0.11)\n",
    "    p.random_brightness(0.5, 1, 2)\n",
    "    p.random_contrast(0.5, 1, 2)\n",
    "    p.random_color(0.2, 0.5, 10)\n",
    "    p.add_operation(salt_pepper)\n",
    "    p.add_operation(random_erasing)\n",
    "    p.add_operation(random_erasing)\n",
    "\n",
    "    \n",
    "    # n ist proportional zur Anzahl der Bilder im Orner\n",
    "    # Aktuell werden nur 5% der Bilder gezogen. Später gerne mehr!\n",
    "    n = int(np.round(3 * num_img))\n",
    "    p.sample(n)\n",
    "    \n",
    "    aug_img_path = os.path.join(home,'AUT-CNN-TUB/Data/27072018/aug/canon',label )\n",
    "    aug_img_path_list = os.listdir(aug_img_path)\n",
    "        \n",
    "    for i, img_name in enumerate(aug_img_path_list):\n",
    "        if '_original_' in img_name:\n",
    "            new_name = img_name.split(sep='_original_')[1][0:13] + '_aug_' + str(i) + '.jpg'\n",
    "\n",
    "            old_file = os.path.join(aug_img_path, img_name)\n",
    "            new_file = os.path.join(aug_img_path, new_name)\n",
    "\n",
    "            os.rename(old_file, new_file)\n",
    "\n"
   ]
  },
  {
   "cell_type": "markdown",
   "metadata": {},
   "source": [
    "# augment industry images"
   ]
  },
  {
   "cell_type": "code",
   "execution_count": 4,
   "metadata": {},
   "outputs": [
    {
     "name": "stderr",
     "output_type": "stream",
     "text": [
      "\r",
      "Executing Pipeline:   0%|          | 0/1160 [00:00<?, ? Samples/s]"
     ]
    },
    {
     "name": "stdout",
     "output_type": "stream",
     "text": [
      "Initialised with 1160 image(s) found.\n",
      "Output directory set to /home/jeronimo/git/AUT-CNN-TUB/Data/27072018/aug/industry/1."
     ]
    },
    {
     "name": "stderr",
     "output_type": "stream",
     "text": [
      "Processing <PIL.Image.Image image mode=RGB size=1280x1024 at 0x7FB861A1B978>: 100%|██████████| 1160/1160 [01:32<00:00, 12.48 Samples/s]                  \n",
      "Executing Pipeline:   0%|          | 0/1097 [00:00<?, ? Samples/s]"
     ]
    },
    {
     "name": "stdout",
     "output_type": "stream",
     "text": [
      "Initialised with 1097 image(s) found.\n",
      "Output directory set to /home/jeronimo/git/AUT-CNN-TUB/Data/27072018/aug/industry/2."
     ]
    },
    {
     "name": "stderr",
     "output_type": "stream",
     "text": [
      "Processing <PIL.Image.Image image mode=RGB size=1280x1024 at 0x7FB8601992E8>: 100%|██████████| 1097/1097 [01:27<00:00, 12.50 Samples/s]                  \n",
      "Executing Pipeline:   0%|          | 0/1075 [00:00<?, ? Samples/s]"
     ]
    },
    {
     "name": "stdout",
     "output_type": "stream",
     "text": [
      "Initialised with 1075 image(s) found.\n",
      "Output directory set to /home/jeronimo/git/AUT-CNN-TUB/Data/27072018/aug/industry/13."
     ]
    },
    {
     "name": "stderr",
     "output_type": "stream",
     "text": [
      "Processing <PIL.Image.Image image mode=RGB size=1280x1024 at 0x7FB893FB1550>: 100%|██████████| 1075/1075 [01:27<00:00, 12.29 Samples/s]                  \n",
      "Executing Pipeline:   0%|          | 0/1117 [00:00<?, ? Samples/s]"
     ]
    },
    {
     "name": "stdout",
     "output_type": "stream",
     "text": [
      "Initialised with 1117 image(s) found.\n",
      "Output directory set to /home/jeronimo/git/AUT-CNN-TUB/Data/27072018/aug/industry/14."
     ]
    },
    {
     "name": "stderr",
     "output_type": "stream",
     "text": [
      "Processing <PIL.JpegImagePlugin.JpegImageFile image mode=RGB size=1280x1024 at 0x7FB860249390>: 100%|██████████| 1117/1117 [01:28<00:00, 12.66 Samples/s]\n",
      "Executing Pipeline:   0%|          | 0/1079 [00:00<?, ? Samples/s]"
     ]
    },
    {
     "name": "stdout",
     "output_type": "stream",
     "text": [
      "Initialised with 1079 image(s) found.\n",
      "Output directory set to /home/jeronimo/git/AUT-CNN-TUB/Data/27072018/aug/industry/7.1."
     ]
    },
    {
     "name": "stderr",
     "output_type": "stream",
     "text": [
      "Processing <PIL.Image.Image image mode=RGB size=1280x1024 at 0x7FB8619C6EB8>: 100%|██████████| 1079/1079 [01:26<00:00, 12.49 Samples/s]                  \n",
      "Executing Pipeline:   0%|          | 0/1272 [00:00<?, ? Samples/s]"
     ]
    },
    {
     "name": "stdout",
     "output_type": "stream",
     "text": [
      "Initialised with 1272 image(s) found.\n",
      "Output directory set to /home/jeronimo/git/AUT-CNN-TUB/Data/27072018/aug/industry/8."
     ]
    },
    {
     "name": "stderr",
     "output_type": "stream",
     "text": [
      "Processing <PIL.Image.Image image mode=RGB size=1280x1024 at 0x7FB861A82A90>: 100%|██████████| 1272/1272 [01:55<00:00, 10.99 Samples/s]                  \n",
      "Executing Pipeline:   0%|          | 0/1234 [00:00<?, ? Samples/s]"
     ]
    },
    {
     "name": "stdout",
     "output_type": "stream",
     "text": [
      "Initialised with 1234 image(s) found.\n",
      "Output directory set to /home/jeronimo/git/AUT-CNN-TUB/Data/27072018/aug/industry/5."
     ]
    },
    {
     "name": "stderr",
     "output_type": "stream",
     "text": [
      "Processing <PIL.Image.Image image mode=RGB size=1280x1024 at 0x7FB8619ED048>: 100%|██████████| 1234/1234 [01:56<00:00, 10.57 Samples/s]                  \n",
      "Executing Pipeline:   0%|          | 0/970 [00:00<?, ? Samples/s]"
     ]
    },
    {
     "name": "stdout",
     "output_type": "stream",
     "text": [
      "Initialised with 970 image(s) found.\n",
      "Output directory set to /home/jeronimo/git/AUT-CNN-TUB/Data/27072018/aug/industry/4."
     ]
    },
    {
     "name": "stderr",
     "output_type": "stream",
     "text": [
      "Processing <PIL.Image.Image image mode=RGB size=1280x1024 at 0x7FB8601B62B0>: 100%|██████████| 970/970 [01:24<00:00, 11.44 Samples/s]                  \n",
      "Executing Pipeline:   0%|          | 0/1072 [00:00<?, ? Samples/s]"
     ]
    },
    {
     "name": "stdout",
     "output_type": "stream",
     "text": [
      "Initialised with 1072 image(s) found.\n",
      "Output directory set to /home/jeronimo/git/AUT-CNN-TUB/Data/27072018/aug/industry/3."
     ]
    },
    {
     "name": "stderr",
     "output_type": "stream",
     "text": [
      "Processing <PIL.Image.Image image mode=RGB size=1280x1024 at 0x7FB861AC77B8>: 100%|██████████| 1072/1072 [01:30<00:00, 11.85 Samples/s]                  \n",
      "Executing Pipeline:   0%|          | 0/1047 [00:00<?, ? Samples/s]"
     ]
    },
    {
     "name": "stdout",
     "output_type": "stream",
     "text": [
      "Initialised with 1047 image(s) found.\n",
      "Output directory set to /home/jeronimo/git/AUT-CNN-TUB/Data/27072018/aug/industry/10."
     ]
    },
    {
     "name": "stderr",
     "output_type": "stream",
     "text": [
      "Processing <PIL.Image.Image image mode=RGB size=1280x1024 at 0x7FB861A18EB8>: 100%|██████████| 1047/1047 [01:29<00:00, 11.71 Samples/s]                  \n",
      "Executing Pipeline:   0%|          | 0/1150 [00:00<?, ? Samples/s]"
     ]
    },
    {
     "name": "stdout",
     "output_type": "stream",
     "text": [
      "Initialised with 1150 image(s) found.\n",
      "Output directory set to /home/jeronimo/git/AUT-CNN-TUB/Data/27072018/aug/industry/12."
     ]
    },
    {
     "name": "stderr",
     "output_type": "stream",
     "text": [
      "Processing <PIL.Image.Image image mode=RGB size=1280x1024 at 0x7FB86019BDD8>: 100%|██████████| 1150/1150 [01:33<00:00, 12.31 Samples/s]                  \n",
      "Executing Pipeline:   0%|          | 0/1161 [00:00<?, ? Samples/s]"
     ]
    },
    {
     "name": "stdout",
     "output_type": "stream",
     "text": [
      "Initialised with 1161 image(s) found.\n",
      "Output directory set to /home/jeronimo/git/AUT-CNN-TUB/Data/27072018/aug/industry/11."
     ]
    },
    {
     "name": "stderr",
     "output_type": "stream",
     "text": [
      "Processing <PIL.Image.Image image mode=RGB size=1280x1024 at 0x7FB86019BCC0>: 100%|██████████| 1161/1161 [01:36<00:00, 11.97 Samples/s]                  \n",
      "Executing Pipeline:   0%|          | 0/832 [00:00<?, ? Samples/s]"
     ]
    },
    {
     "name": "stdout",
     "output_type": "stream",
     "text": [
      "Initialised with 832 image(s) found.\n",
      "Output directory set to /home/jeronimo/git/AUT-CNN-TUB/Data/27072018/aug/industry/6."
     ]
    },
    {
     "name": "stderr",
     "output_type": "stream",
     "text": [
      "Processing <PIL.Image.Image image mode=RGB size=1280x1024 at 0x7FB8602E1630>: 100%|██████████| 832/832 [01:07<00:00, 12.27 Samples/s]                   \n",
      "Executing Pipeline:   0%|          | 0/1257 [00:00<?, ? Samples/s]"
     ]
    },
    {
     "name": "stdout",
     "output_type": "stream",
     "text": [
      "Initialised with 1257 image(s) found.\n",
      "Output directory set to /home/jeronimo/git/AUT-CNN-TUB/Data/27072018/aug/industry/7.2."
     ]
    },
    {
     "name": "stderr",
     "output_type": "stream",
     "text": [
      "Processing <PIL.Image.Image image mode=RGB size=1280x1024 at 0x7FB861A61400>: 100%|██████████| 1257/1257 [01:45<00:00, 11.95 Samples/s]                  \n",
      "Executing Pipeline:   0%|          | 0/1059 [00:00<?, ? Samples/s]"
     ]
    },
    {
     "name": "stdout",
     "output_type": "stream",
     "text": [
      "Initialised with 1059 image(s) found.\n",
      "Output directory set to /home/jeronimo/git/AUT-CNN-TUB/Data/27072018/aug/industry/15."
     ]
    },
    {
     "name": "stderr",
     "output_type": "stream",
     "text": [
      "Processing <PIL.Image.Image image mode=RGB size=1280x1024 at 0x7FB8602B4A20>: 100%|██████████| 1059/1059 [01:30<00:00, 11.76 Samples/s]                 \n",
      "Executing Pipeline:   0%|          | 0/948 [00:00<?, ? Samples/s]"
     ]
    },
    {
     "name": "stdout",
     "output_type": "stream",
     "text": [
      "Initialised with 948 image(s) found.\n",
      "Output directory set to /home/jeronimo/git/AUT-CNN-TUB/Data/27072018/aug/industry/9."
     ]
    },
    {
     "name": "stderr",
     "output_type": "stream",
     "text": [
      "Processing <PIL.Image.Image image mode=RGB size=1280x1024 at 0x7FB8602683C8>: 100%|██████████| 948/948 [01:24<00:00, 11.19 Samples/s]                  \n"
     ]
    }
   ],
   "source": [
    "\n",
    "###### Namen der Ordner \n",
    "labels = ['1','2','13','14','7.1','8','5','4','3','10','12','11','6','7.2','15','9']\n",
    "\n",
    "# Dateipfat den den Ordnern mit den Bildern.\n",
    "# D.h. im Ordner '.../Centered_28x28' die Ordner '1', '2' uns\n",
    "\n",
    "# Definieren des Pfades zu den Bildern, die Bearbeitet werden sollen\n",
    "home = os.getcwd().split('AUT-CNN-TUB')[0]\n",
    "data_path  = os.path.join(home,'AUT-CNN-TUB/Data/Raw_Data_27072018_industry/')\n",
    "\n",
    "# custom operations\n",
    "salt_pepper = SaltPepper(probability=0.5 , salt_vs_pepper= 0.2, amount= 0.004)\n",
    "random_erasing = RandomErasing(probability=0.9, rectangle_area=0.01)\n",
    "\n",
    "# Es werden alle oben angegebnen Ordner durchlaufen\n",
    "for label in labels:\n",
    "    # Anzahl der bilder Pro Ornderer (Bauteilart) ermitteln\n",
    "    img_path = os.path.join(data_path+label)\n",
    "    num_img = len(os.listdir(img_path))\n",
    "    \n",
    "    # Augmentor-Objekt wird angelegt mit aktuellem Ordner\n",
    "    p = Augmentor.Pipeline(data_path+label, \n",
    "                           output_directory=os.path.join(home,'AUT-CNN-TUB/Data/27072018/aug/industry',label ))\n",
    "    \n",
    "    # definieren der Operationen\n",
    "    # Hier können gern noch weitere hinzugefügt werden oder Wahrscheinlichkeiten geändert werden. \n",
    "    p.flip_left_right(probability=0.2)\n",
    "    p.rotate(probability=0.4, max_left_rotation=10, max_right_rotation=10)\n",
    "    #p.random_erasing(probability=0.8, rectangle_area=0.11)\n",
    "    #p.random_erasing(probability=0.8, rectangle_area=0.11)\n",
    "    p.random_brightness(0.5, 0.7, 1.5)\n",
    "    p.random_contrast(0.5, 0.5, 1.5)\n",
    "    p.random_color(0.2, 0.5, 10)\n",
    "    p.add_operation(salt_pepper)\n",
    "    p.add_operation(random_erasing)\n",
    "    p.add_operation(random_erasing)\n",
    "\n",
    "    \n",
    "    # n ist proportional zur Anzahl der Bilder im Orner\n",
    "    # Aktuell werden nur 5% der Bilder gezogen. Später gerne mehr!\n",
    "    n = int(np.round(1 * num_img))\n",
    "    p.sample(n)\n",
    "    \n",
    "    aug_img_path = os.path.join(home,'AUT-CNN-TUB/Data/27072018/aug/industry',label )\n",
    "    aug_img_path_list = os.listdir(aug_img_path)\n",
    "        \n",
    "    for i, img_name in enumerate(aug_img_path_list):\n",
    "        new_name = img_name.split(sep='_original_')[1][0:13] + '_aug_' + str(i) + '.jpg'\n",
    "\n",
    "        old_file = os.path.join(aug_img_path, img_name)\n",
    "        new_file = os.path.join(aug_img_path, new_name)\n",
    "\n",
    "        os.rename(old_file, new_file)"
   ]
  },
  {
   "cell_type": "code",
   "execution_count": null,
   "metadata": {},
   "outputs": [],
   "source": []
  }
 ],
 "metadata": {
  "kernelspec": {
   "display_name": "Python 3",
   "language": "python",
   "name": "python3"
  },
  "language_info": {
   "codemirror_mode": {
    "name": "ipython",
    "version": 3
   },
   "file_extension": ".py",
   "mimetype": "text/x-python",
   "name": "python",
   "nbconvert_exporter": "python",
   "pygments_lexer": "ipython3",
   "version": "3.6.6"
  }
 },
 "nbformat": 4,
 "nbformat_minor": 2
}
